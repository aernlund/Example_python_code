{
 "cells": [
  {
   "cell_type": "code",
   "execution_count": null,
   "metadata": {
    "collapsed": true
   },
   "outputs": [],
   "source": [
    "%matplotlib inline\n",
    "import matplotlib.pyplot as plt\n",
    "import seaborn as sns\n",
    "import pandas as pd\n",
    "import numpy as np\n",
    "plt.rcParams['pdf.fonttype'] = 42\n",
    "plt.rcParams['ps.fonttype'] = 42\n",
    "from sklearn import linear_model"
   ]
  },
  {
   "cell_type": "code",
   "execution_count": null,
   "metadata": {
    "collapsed": true
   },
   "outputs": [],
   "source": [
    "def scatter_corr(features_matrix, nrows, ncols, num_feature_columns, univar_score):\n",
    "    '''fill in number of rows, number of columns, number of features to plot'''    \n",
    "    nrows =nrows\n",
    "    ncols=ncols\n",
    "    features = num_feature_columns\n",
    "    fig, axs = plt.subplots(nrows =nrows, ncols=ncols, figsize=(12,12))\n",
    "    count = 0\n",
    "    for row in range(nrows):\n",
    "        for col in range(ncols):\n",
    "            #tests wethere there are an odd number of feature columns\n",
    "                if  features % 2 != 0 and count > nrows*ncols-2:\n",
    "                    break\n",
    "                else:\n",
    "            #plots each column compared to fold-change    \n",
    "                    ax1 = features_matrix.plot(x=features_matrix.columns[count], y='logFC', kind='scatter', ax=axs[row,col], legend=True, label='R2=' + str(round(univar_score[count], 5)))\n",
    "                    ax1.axes.get_yaxis().set_visible(False)\n",
    "                    ax1.legend(markerscale=0)\n",
    "                    count = count + 1\n",
    "    plt.savefig('scatter_features_logFC.pdf')      \n",
    "    "
   ]
  },
  {
   "cell_type": "code",
   "execution_count": null,
   "metadata": {
    "collapsed": true
   },
   "outputs": [],
   "source": [
    "def linear_regression(X,y):\n",
    "    lm.fit(X, y)\n",
    "    model = lm.fit(X,y)\n",
    "    predictions = lm.predict(X)\n",
    "    score = lm.score(X,y)\n",
    "    return(score)"
   ]
  },
  {
   "cell_type": "code",
   "execution_count": null,
   "metadata": {
    "collapsed": true
   },
   "outputs": [],
   "source": [
    "def linear_regression_single(col, y):\n",
    "    '''univariate analysis per feature\n",
    "    col is the feature column to predict the y column'''\n",
    "    column = col\n",
    "    feature_reshape = column.values.reshape(-1,1)\n",
    "    lm.fit(feature_reshape, y)\n",
    "    model = lm.fit(feature_reshape,y)\n",
    "    predictions = lm.predict(feature_reshape)\n",
    "    score = lm.score(feature_reshape,y)\n",
    "    return(score)"
   ]
  },
  {
   "cell_type": "code",
   "execution_count": null,
   "metadata": {
    "collapsed": true
   },
   "outputs": [],
   "source": [
    "lm = linear_model.LinearRegression()"
   ]
  },
  {
   "cell_type": "markdown",
   "metadata": {},
   "source": [
    "Find intersection of features matrix and expression matrix"
   ]
  },
  {
   "cell_type": "code",
   "execution_count": null,
   "metadata": {
    "collapsed": true
   },
   "outputs": [],
   "source": [
    "feature_mat_hg38 = pd.read_table('hg38_features_machineLearning.txt', sep='\\t', index_col=0)"
   ]
  },
  {
   "cell_type": "markdown",
   "metadata": {},
   "source": [
    "231 all polysome fold-changes"
   ]
  },
  {
   "cell_type": "code",
   "execution_count": null,
   "metadata": {
    "collapsed": true
   },
   "outputs": [],
   "source": [
    "poly_exp = pd.read_table('limma_E4-Nsi_all_polysome_231.txt', sep='\\t', index_col=0)"
   ]
  },
  {
   "cell_type": "code",
   "execution_count": null,
   "metadata": {
    "collapsed": true
   },
   "outputs": [],
   "source": [
    "poly_exp_fc = pd.DataFrame(poly_exp['logFC'])"
   ]
  },
  {
   "cell_type": "markdown",
   "metadata": {},
   "source": [
    "Select only features in both dataframes"
   ]
  },
  {
   "cell_type": "code",
   "execution_count": null,
   "metadata": {
    "collapsed": true
   },
   "outputs": [],
   "source": [
    "final_frame = feature_mat_hg38.merge(poly_exp_fc, left_on=feature_mat_hg38['gene_symbol'], right_index=True)"
   ]
  },
  {
   "cell_type": "markdown",
   "metadata": {},
   "source": [
    "Select the longest isoform of each gene"
   ]
  },
  {
   "cell_type": "code",
   "execution_count": null,
   "metadata": {
    "collapsed": true
   },
   "outputs": [],
   "source": [
    "test_long = final_frame.groupby('gene_symbol')['mrna_length'].idxmax()"
   ]
  },
  {
   "cell_type": "code",
   "execution_count": null,
   "metadata": {
    "collapsed": true
   },
   "outputs": [],
   "source": [
    "rows_max = final_frame.loc[test_long,:]\n",
    "rows_max.shape"
   ]
  },
  {
   "cell_type": "markdown",
   "metadata": {},
   "source": [
    "Remove NaNs"
   ]
  },
  {
   "cell_type": "code",
   "execution_count": null,
   "metadata": {
    "collapsed": true
   },
   "outputs": [],
   "source": [
    "rows_max2 = rows_max.dropna(axis=0)\n",
    "rows_max2.to_csv('polysome_231_fold_change_feature.txt', sep='\\t')"
   ]
  },
  {
   "cell_type": "markdown",
   "metadata": {},
   "source": [
    "Scatter matrix - to check for correlation amongst features"
   ]
  },
  {
   "cell_type": "code",
   "execution_count": null,
   "metadata": {
    "collapsed": true
   },
   "outputs": [],
   "source": [
    "from pandas.tools.plotting import scatter_matrix\n",
    "axs = pd.scatter_matrix(rows_max2, alpha=0.2, figsize=(12, 12), diagonal='kde')   \n",
    "plt.savefig(\"/Users/iManda/Desktop/HMEC_TR_4E/UTR_analysis/scatter_all_features.png\")"
   ]
  },
  {
   "cell_type": "markdown",
   "metadata": {},
   "source": [
    "Univariate Analysis"
   ]
  },
  {
   "cell_type": "code",
   "execution_count": null,
   "metadata": {
    "collapsed": true
   },
   "outputs": [],
   "source": [
    "X = rows_max2[['utr3_percentgc', 'utr5_percentgc', 'mrna_percentgc', 'utr3_length',\n",
    "       'utr5_length', 'mrna_length', 'utr3_energy', 'utr5_energy']]\n",
    "y = rows_max2[\"logFC\"]"
   ]
  },
  {
   "cell_type": "code",
   "execution_count": null,
   "metadata": {},
   "outputs": [],
   "source": [
    "univariate_score = X.apply(lambda col: linear_regression_single(col, y))\n",
    "univariate_score"
   ]
  },
  {
   "cell_type": "code",
   "execution_count": null,
   "metadata": {
    "scrolled": true
   },
   "outputs": [],
   "source": [
    "nrows = 2\n",
    "ncols = 4\n",
    "features = len(X.columns)\n",
    "scatter_corr(rows_max2, nrows, ncols, features, univariate_score)\n"
   ]
  },
  {
   "cell_type": "markdown",
   "metadata": {},
   "source": [
    "Multivariate Analysis - prints R2 score"
   ]
  },
  {
   "cell_type": "code",
   "execution_count": null,
   "metadata": {},
   "outputs": [],
   "source": [
    "linear_regression(X,y)"
   ]
  },
  {
   "cell_type": "markdown",
   "metadata": {},
   "source": [
    "# check correlation of translation efficiency genes"
   ]
  },
  {
   "cell_type": "code",
   "execution_count": null,
   "metadata": {
    "collapsed": true
   },
   "outputs": [],
   "source": [
    "te = pd.read_table('limma_E4-Nsi_top_TE_231.txt', sep='\\t', index_col=0)"
   ]
  },
  {
   "cell_type": "code",
   "execution_count": null,
   "metadata": {},
   "outputs": [],
   "source": [
    "te_features = rows_max2.ix[te.index.isin(rows_max2['gene_symbol']),:]\n",
    "te_features.shape"
   ]
  },
  {
   "cell_type": "code",
   "execution_count": null,
   "metadata": {
    "collapsed": true
   },
   "outputs": [],
   "source": []
  }
 ],
 "metadata": {
  "anaconda-cloud": {},
  "kernelspec": {
   "display_name": "Python [seaborn_tut]",
   "language": "python",
   "name": "Python [seaborn_tut]"
  },
  "language_info": {
   "codemirror_mode": {
    "name": "ipython",
    "version": 3
   },
   "file_extension": ".py",
   "mimetype": "text/x-python",
   "name": "python",
   "nbconvert_exporter": "python",
   "pygments_lexer": "ipython3",
   "version": "3.5.3"
  }
 },
 "nbformat": 4,
 "nbformat_minor": 2
}
