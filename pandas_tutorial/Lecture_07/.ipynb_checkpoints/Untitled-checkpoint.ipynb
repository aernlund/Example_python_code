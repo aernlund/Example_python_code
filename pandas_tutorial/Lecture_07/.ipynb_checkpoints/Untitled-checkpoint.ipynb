{
 "cells": [
  {
   "cell_type": "markdown",
   "metadata": {},
   "source": [
    "# Intro to Pandas and Matplotlib Part I"
   ]
  },
  {
   "cell_type": "markdown",
   "metadata": {},
   "source": [
    "Pandas is  a great library for manipulating data that we are used to dealing with in biology a.k.a the excel spreadsheet.  Pandas can also create basic plots utilizing the power of the matplotlib API which we will also cover in more detail."
   ]
  },
  {
   "cell_type": "markdown",
   "metadata": {},
   "source": [
    "For more info (and to see where I'm pulling material for this tutorial) check out [10 min to Pandas](http://pandas.pydata.org/pandas-docs/stable/10min.html)"
   ]
  },
  {
   "cell_type": "code",
   "execution_count": 85,
   "metadata": {
    "collapsed": true
   },
   "outputs": [],
   "source": [
    "% matplotlib inline\n",
    "import pandas as pd\n",
    "import matplotlib.pyplot as plt"
   ]
  },
  {
   "cell_type": "markdown",
   "metadata": {},
   "source": [
    "## So, first things first, we need to create some objects in Pandas"
   ]
  },
  {
   "cell_type": "markdown",
   "metadata": {},
   "source": [
    "There are two main object types in Pandas, 1) the series and 2) the dataframe.  A series looks a lot like a list and can accept mixed data types.  It can also be indexed like a list.  And like a list, series objects are mutable and therefore item assingment can take place."
   ]
  },
  {
   "cell_type": "code",
   "execution_count": 86,
   "metadata": {
    "collapsed": false
   },
   "outputs": [
    {
     "name": "stdout",
     "output_type": "stream",
     "text": [
      "0    1\n",
      "1    3\n",
      "2    5\n",
      "3    a\n",
      "4    6\n",
      "5    8\n",
      "dtype: object\n",
      "1\n"
     ]
    }
   ],
   "source": [
    "s = pd.Series([1,3,5,'a',6,8])\n",
    "print(s)\n",
    "print(s[0])\n",
    "#s[0] = 2\n",
    "#print(s)"
   ]
  },
  {
   "cell_type": "markdown",
   "metadata": {},
   "source": [
    "To get a list of series methods, you can use tab completetion in the notebook.  Try this below."
   ]
  },
  {
   "cell_type": "code",
   "execution_count": 87,
   "metadata": {
    "collapsed": false
   },
   "outputs": [
    {
     "data": {
      "text/plain": [
       "['T',\n",
       " '_AXIS_ALIASES',\n",
       " '_AXIS_IALIASES',\n",
       " '_AXIS_LEN',\n",
       " '_AXIS_NAMES',\n",
       " '_AXIS_NUMBERS',\n",
       " '_AXIS_ORDERS',\n",
       " '_AXIS_REVERSED',\n",
       " '_AXIS_SLICEMAP',\n",
       " '__abs__',\n",
       " '__add__',\n",
       " '__and__',\n",
       " '__array__',\n",
       " '__array_prepare__',\n",
       " '__array_priority__',\n",
       " '__array_wrap__',\n",
       " '__bool__',\n",
       " '__bytes__',\n",
       " '__class__',\n",
       " '__contains__',\n",
       " '__delattr__',\n",
       " '__delitem__',\n",
       " '__dict__',\n",
       " '__dir__',\n",
       " '__div__',\n",
       " '__doc__',\n",
       " '__eq__',\n",
       " '__finalize__',\n",
       " '__float__',\n",
       " '__floordiv__',\n",
       " '__format__',\n",
       " '__ge__',\n",
       " '__getattr__',\n",
       " '__getattribute__',\n",
       " '__getitem__',\n",
       " '__getstate__',\n",
       " '__gt__',\n",
       " '__hash__',\n",
       " '__iadd__',\n",
       " '__imul__',\n",
       " '__init__',\n",
       " '__int__',\n",
       " '__invert__',\n",
       " '__ipow__',\n",
       " '__isub__',\n",
       " '__iter__',\n",
       " '__itruediv__',\n",
       " '__le__',\n",
       " '__len__',\n",
       " '__long__',\n",
       " '__lt__',\n",
       " '__mod__',\n",
       " '__module__',\n",
       " '__mul__',\n",
       " '__ne__',\n",
       " '__neg__',\n",
       " '__new__',\n",
       " '__nonzero__',\n",
       " '__or__',\n",
       " '__pow__',\n",
       " '__radd__',\n",
       " '__rand__',\n",
       " '__rdiv__',\n",
       " '__reduce__',\n",
       " '__reduce_ex__',\n",
       " '__repr__',\n",
       " '__rfloordiv__',\n",
       " '__rmod__',\n",
       " '__rmul__',\n",
       " '__ror__',\n",
       " '__round__',\n",
       " '__rpow__',\n",
       " '__rsub__',\n",
       " '__rtruediv__',\n",
       " '__rxor__',\n",
       " '__setattr__',\n",
       " '__setitem__',\n",
       " '__setstate__',\n",
       " '__sizeof__',\n",
       " '__str__',\n",
       " '__sub__',\n",
       " '__subclasshook__',\n",
       " '__truediv__',\n",
       " '__unicode__',\n",
       " '__weakref__',\n",
       " '__xor__',\n",
       " '_accessors',\n",
       " '_add_numeric_operations',\n",
       " '_add_series_only_operations',\n",
       " '_add_series_or_dataframe_operations',\n",
       " '_agg_by_level',\n",
       " '_align_frame',\n",
       " '_align_series',\n",
       " '_allow_index_ops',\n",
       " '_at',\n",
       " '_binop',\n",
       " '_box_item_values',\n",
       " '_can_hold_na',\n",
       " '_check_inplace_setting',\n",
       " '_check_is_chained_assignment_possible',\n",
       " '_check_percentile',\n",
       " '_check_setitem_copy',\n",
       " '_clear_item_cache',\n",
       " '_consolidate_inplace',\n",
       " '_construct_axes_dict',\n",
       " '_construct_axes_dict_for_slice',\n",
       " '_construct_axes_dict_from',\n",
       " '_construct_axes_from_arguments',\n",
       " '_constructor',\n",
       " '_constructor_expanddim',\n",
       " '_constructor_sliced',\n",
       " '_convert',\n",
       " '_create_indexer',\n",
       " '_dir_additions',\n",
       " '_dir_deletions',\n",
       " '_expand_axes',\n",
       " '_from_axes',\n",
       " '_get_axis',\n",
       " '_get_axis_name',\n",
       " '_get_axis_number',\n",
       " '_get_axis_resolvers',\n",
       " '_get_block_manager_axis',\n",
       " '_get_bool_data',\n",
       " '_get_cacher',\n",
       " '_get_index_resolvers',\n",
       " '_get_item_cache',\n",
       " '_get_numeric_data',\n",
       " '_get_repr',\n",
       " '_get_values',\n",
       " '_get_values_tuple',\n",
       " '_get_with',\n",
       " '_iat',\n",
       " '_iget_item_cache',\n",
       " '_iloc',\n",
       " '_index',\n",
       " '_indexed_same',\n",
       " '_info_axis',\n",
       " '_info_axis_name',\n",
       " '_info_axis_number',\n",
       " '_init_mgr',\n",
       " '_internal_names',\n",
       " '_internal_names_set',\n",
       " '_is_cached',\n",
       " '_is_datelike_mixed_type',\n",
       " '_is_mixed_type',\n",
       " '_is_numeric_mixed_type',\n",
       " '_is_view',\n",
       " '_ix',\n",
       " '_ixs',\n",
       " '_loc',\n",
       " '_make_cat_accessor',\n",
       " '_make_dt_accessor',\n",
       " '_make_str_accessor',\n",
       " '_maybe_cache_changed',\n",
       " '_maybe_update_cacher',\n",
       " '_metadata',\n",
       " '_needs_reindex_multi',\n",
       " '_protect_consolidate',\n",
       " '_reduce',\n",
       " '_reindex_axes',\n",
       " '_reindex_axis',\n",
       " '_reindex_indexer',\n",
       " '_reindex_multi',\n",
       " '_reindex_with_indexers',\n",
       " '_reset_cache',\n",
       " '_reset_cacher',\n",
       " '_set_as_cached',\n",
       " '_set_axis',\n",
       " '_set_axis_name',\n",
       " '_set_is_copy',\n",
       " '_set_item',\n",
       " '_set_labels',\n",
       " '_set_name',\n",
       " '_set_subtyp',\n",
       " '_set_values',\n",
       " '_set_with',\n",
       " '_set_with_engine',\n",
       " '_setup_axes',\n",
       " '_slice',\n",
       " '_stat_axis',\n",
       " '_stat_axis_name',\n",
       " '_stat_axis_number',\n",
       " '_typ',\n",
       " '_unpickle_series_compat',\n",
       " '_update_inplace',\n",
       " '_validate_dtype',\n",
       " '_values',\n",
       " '_xs',\n",
       " 'abs',\n",
       " 'add',\n",
       " 'add_prefix',\n",
       " 'add_suffix',\n",
       " 'align',\n",
       " 'all',\n",
       " 'any',\n",
       " 'append',\n",
       " 'apply',\n",
       " 'argmax',\n",
       " 'argmin',\n",
       " 'argsort',\n",
       " 'as_blocks',\n",
       " 'as_matrix',\n",
       " 'asfreq',\n",
       " 'asobject',\n",
       " 'asof',\n",
       " 'astype',\n",
       " 'at',\n",
       " 'at_time',\n",
       " 'autocorr',\n",
       " 'axes',\n",
       " 'base',\n",
       " 'between',\n",
       " 'between_time',\n",
       " 'bfill',\n",
       " 'blocks',\n",
       " 'bool',\n",
       " 'clip',\n",
       " 'clip_lower',\n",
       " 'clip_upper',\n",
       " 'combine',\n",
       " 'combine_first',\n",
       " 'compound',\n",
       " 'compress',\n",
       " 'consolidate',\n",
       " 'convert_objects',\n",
       " 'copy',\n",
       " 'corr',\n",
       " 'count',\n",
       " 'cov',\n",
       " 'cummax',\n",
       " 'cummin',\n",
       " 'cumprod',\n",
       " 'cumsum',\n",
       " 'data',\n",
       " 'describe',\n",
       " 'diff',\n",
       " 'div',\n",
       " 'divide',\n",
       " 'dot',\n",
       " 'drop',\n",
       " 'drop_duplicates',\n",
       " 'dropna',\n",
       " 'dtype',\n",
       " 'dtypes',\n",
       " 'duplicated',\n",
       " 'empty',\n",
       " 'eq',\n",
       " 'equals',\n",
       " 'ewm',\n",
       " 'expanding',\n",
       " 'factorize',\n",
       " 'ffill',\n",
       " 'fillna',\n",
       " 'filter',\n",
       " 'first',\n",
       " 'first_valid_index',\n",
       " 'flags',\n",
       " 'floordiv',\n",
       " 'from_array',\n",
       " 'from_csv',\n",
       " 'ftype',\n",
       " 'ftypes',\n",
       " 'ge',\n",
       " 'get',\n",
       " 'get_dtype_counts',\n",
       " 'get_ftype_counts',\n",
       " 'get_value',\n",
       " 'get_values',\n",
       " 'groupby',\n",
       " 'gt',\n",
       " 'hasnans',\n",
       " 'head',\n",
       " 'hist',\n",
       " 'iat',\n",
       " 'idxmax',\n",
       " 'idxmin',\n",
       " 'iget',\n",
       " 'iget_value',\n",
       " 'iloc',\n",
       " 'imag',\n",
       " 'index',\n",
       " 'interpolate',\n",
       " 'irow',\n",
       " 'is_copy',\n",
       " 'is_time_series',\n",
       " 'is_unique',\n",
       " 'isin',\n",
       " 'isnull',\n",
       " 'item',\n",
       " 'items',\n",
       " 'itemsize',\n",
       " 'iteritems',\n",
       " 'iterkv',\n",
       " 'ix',\n",
       " 'keys',\n",
       " 'kurt',\n",
       " 'kurtosis',\n",
       " 'last',\n",
       " 'last_valid_index',\n",
       " 'le',\n",
       " 'loc',\n",
       " 'lt',\n",
       " 'mad',\n",
       " 'map',\n",
       " 'mask',\n",
       " 'max',\n",
       " 'mean',\n",
       " 'median',\n",
       " 'memory_usage',\n",
       " 'min',\n",
       " 'mod',\n",
       " 'mode',\n",
       " 'mul',\n",
       " 'multiply',\n",
       " 'name',\n",
       " 'nbytes',\n",
       " 'ndim',\n",
       " 'ne',\n",
       " 'nlargest',\n",
       " 'nonzero',\n",
       " 'notnull',\n",
       " 'nsmallest',\n",
       " 'nunique',\n",
       " 'order',\n",
       " 'pct_change',\n",
       " 'pipe',\n",
       " 'plot',\n",
       " 'pop',\n",
       " 'pow',\n",
       " 'prod',\n",
       " 'product',\n",
       " 'ptp',\n",
       " 'put',\n",
       " 'quantile',\n",
       " 'radd',\n",
       " 'rank',\n",
       " 'ravel',\n",
       " 'rdiv',\n",
       " 'real',\n",
       " 'reindex',\n",
       " 'reindex_axis',\n",
       " 'reindex_like',\n",
       " 'rename',\n",
       " 'rename_axis',\n",
       " 'reorder_levels',\n",
       " 'repeat',\n",
       " 'replace',\n",
       " 'resample',\n",
       " 'reset_index',\n",
       " 'reshape',\n",
       " 'rfloordiv',\n",
       " 'rmod',\n",
       " 'rmul',\n",
       " 'rolling',\n",
       " 'round',\n",
       " 'rpow',\n",
       " 'rsub',\n",
       " 'rtruediv',\n",
       " 'sample',\n",
       " 'searchsorted',\n",
       " 'select',\n",
       " 'sem',\n",
       " 'set_axis',\n",
       " 'set_value',\n",
       " 'shape',\n",
       " 'shift',\n",
       " 'size',\n",
       " 'skew',\n",
       " 'slice_shift',\n",
       " 'sort',\n",
       " 'sort_index',\n",
       " 'sort_values',\n",
       " 'sortlevel',\n",
       " 'squeeze',\n",
       " 'std',\n",
       " 'str',\n",
       " 'strides',\n",
       " 'sub',\n",
       " 'subtract',\n",
       " 'sum',\n",
       " 'swapaxes',\n",
       " 'swaplevel',\n",
       " 'tail',\n",
       " 'take',\n",
       " 'to_clipboard',\n",
       " 'to_csv',\n",
       " 'to_dense',\n",
       " 'to_dict',\n",
       " 'to_frame',\n",
       " 'to_hdf',\n",
       " 'to_json',\n",
       " 'to_msgpack',\n",
       " 'to_period',\n",
       " 'to_pickle',\n",
       " 'to_sparse',\n",
       " 'to_sql',\n",
       " 'to_string',\n",
       " 'to_timestamp',\n",
       " 'to_xarray',\n",
       " 'tolist',\n",
       " 'transpose',\n",
       " 'truediv',\n",
       " 'truncate',\n",
       " 'tshift',\n",
       " 'tz_convert',\n",
       " 'tz_localize',\n",
       " 'unique',\n",
       " 'unstack',\n",
       " 'update',\n",
       " 'valid',\n",
       " 'value_counts',\n",
       " 'values',\n",
       " 'var',\n",
       " 'view',\n",
       " 'where',\n",
       " 'xs']"
      ]
     },
     "execution_count": 87,
     "metadata": {},
     "output_type": "execute_result"
    }
   ],
   "source": [
    "s."
   ]
  },
  {
   "cell_type": "markdown",
   "metadata": {},
   "source": [
    "More exciting than the series object and more useful to us, is the dataframe.  Dataframes have rows and columns and dataframes can be created in multiple ways. "
   ]
  },
  {
   "cell_type": "code",
   "execution_count": 88,
   "metadata": {
    "collapsed": false
   },
   "outputs": [
    {
     "data": {
      "text/html": [
       "<div>\n",
       "<table border=\"1\" class=\"dataframe\">\n",
       "  <thead>\n",
       "    <tr style=\"text-align: right;\">\n",
       "      <th></th>\n",
       "      <th>a</th>\n",
       "      <th>b</th>\n",
       "      <th>c</th>\n",
       "    </tr>\n",
       "  </thead>\n",
       "  <tbody>\n",
       "    <tr>\n",
       "      <th>0</th>\n",
       "      <td>1</td>\n",
       "      <td>3</td>\n",
       "      <td>cat</td>\n",
       "    </tr>\n",
       "    <tr>\n",
       "      <th>1</th>\n",
       "      <td>2</td>\n",
       "      <td>4</td>\n",
       "      <td>dog</td>\n",
       "    </tr>\n",
       "  </tbody>\n",
       "</table>\n",
       "</div>"
      ],
      "text/plain": [
       "   a  b    c\n",
       "0  1  3  cat\n",
       "1  2  4  dog"
      ]
     },
     "execution_count": 88,
     "metadata": {},
     "output_type": "execute_result"
    }
   ],
   "source": [
    "df1 = {'a':[1, 2], 'b': (3, 4), 'c': ['cat', 'dog']}\n",
    "pd.DataFrame(df1)"
   ]
  },
  {
   "cell_type": "code",
   "execution_count": 89,
   "metadata": {
    "collapsed": false
   },
   "outputs": [
    {
     "data": {
      "text/html": [
       "<div>\n",
       "<table border=\"1\" class=\"dataframe\">\n",
       "  <thead>\n",
       "    <tr style=\"text-align: right;\">\n",
       "      <th></th>\n",
       "      <th>0</th>\n",
       "      <th>1</th>\n",
       "      <th>2</th>\n",
       "    </tr>\n",
       "  </thead>\n",
       "  <tbody>\n",
       "    <tr>\n",
       "      <th>0</th>\n",
       "      <td>a</td>\n",
       "      <td>1</td>\n",
       "      <td>2</td>\n",
       "    </tr>\n",
       "    <tr>\n",
       "      <th>1</th>\n",
       "      <td>b</td>\n",
       "      <td>3</td>\n",
       "      <td>4</td>\n",
       "    </tr>\n",
       "    <tr>\n",
       "      <th>2</th>\n",
       "      <td>c</td>\n",
       "      <td>cat</td>\n",
       "      <td>dog</td>\n",
       "    </tr>\n",
       "  </tbody>\n",
       "</table>\n",
       "</div>"
      ],
      "text/plain": [
       "   0    1    2\n",
       "0  a    1    2\n",
       "1  b    3    4\n",
       "2  c  cat  dog"
      ]
     },
     "execution_count": 89,
     "metadata": {},
     "output_type": "execute_result"
    }
   ],
   "source": [
    "df2 = [['a',1,2], ['b', 3,4], ['c', 'cat', 'dog']]\n",
    "pd.DataFrame(df2)\n"
   ]
  },
  {
   "cell_type": "code",
   "execution_count": 95,
   "metadata": {
    "collapsed": false
   },
   "outputs": [
    {
     "data": {
      "text/html": [
       "<div>\n",
       "<table border=\"1\" class=\"dataframe\">\n",
       "  <thead>\n",
       "    <tr style=\"text-align: right;\">\n",
       "      <th></th>\n",
       "      <th>a</th>\n",
       "      <th>b</th>\n",
       "      <th>c</th>\n",
       "    </tr>\n",
       "  </thead>\n",
       "  <tbody>\n",
       "    <tr>\n",
       "      <th>0</th>\n",
       "      <td>1</td>\n",
       "      <td>4.0</td>\n",
       "      <td>NaN</td>\n",
       "    </tr>\n",
       "    <tr>\n",
       "      <th>1</th>\n",
       "      <td>2</td>\n",
       "      <td>NaN</td>\n",
       "      <td>3.0</td>\n",
       "    </tr>\n",
       "  </tbody>\n",
       "</table>\n",
       "</div>"
      ],
      "text/plain": [
       "   a    b    c\n",
       "0  1  4.0  NaN\n",
       "1  2  NaN  3.0"
      ]
     },
     "execution_count": 95,
     "metadata": {},
     "output_type": "execute_result"
    }
   ],
   "source": [
    "df = [{'a':1, 'b':4}, {'a':2, 'c':3}]\n",
    "pd.DataFrame(df)"
   ]
  },
  {
   "cell_type": "markdown",
   "metadata": {},
   "source": [
    "More important to our uses, we can give Pandas an excel spreadsheet or text file and then play with that data.  And the file i/o is way easier than base python.  The data we are playing with today is compliments of Larsson et al., 2007.  In this study, the authors examined differential expression upon overexpression of a protein in cell culture.  To see what a day in the life of dealing with other people's data is like, we will now ask some questions of this dataset.  Mostly, we are going to be interested in the overlap of this dataset with another similar dataset."
   ]
  },
  {
   "cell_type": "markdown",
   "metadata": {},
   "source": [
    "Notice the last column, has empty space or missing data.  Pandas will automatically deal with that."
   ]
  },
  {
   "cell_type": "markdown",
   "metadata": {},
   "source": [
    "![alt text](Screen Shot 2016-09-28 at 9.24.25 AM.png)"
   ]
  },
  {
   "cell_type": "code",
   "execution_count": 98,
   "metadata": {
    "collapsed": false
   },
   "outputs": [],
   "source": [
    "#this reads the data into a dataframe object, using a tab separated character.  The index_col argument is optional\n",
    "# and sets the first column in the data as rownames which is similar to how R works.\n",
    "genelist = pd.read_table('Supplement_table02.txt', sep='\\t', index_col=0)\n",
    "genelist_excel = pd.read_excel('Supplement_table02.xlsx', index_col=0)"
   ]
  },
  {
   "cell_type": "markdown",
   "metadata": {},
   "source": [
    "## Viewing the data"
   ]
  },
  {
   "cell_type": "markdown",
   "metadata": {},
   "source": [
    "Let's view the data frame.  Likewise there is a method for viewing that last rows of the dataframe that I will let you google if you are interested.  You can see that Pandas filled in missing values with NaN."
   ]
  },
  {
   "cell_type": "code",
   "execution_count": 97,
   "metadata": {
    "collapsed": false
   },
   "outputs": [
    {
     "data": {
      "text/html": [
       "<div>\n",
       "<table border=\"1\" class=\"dataframe\">\n",
       "  <thead>\n",
       "    <tr style=\"text-align: right;\">\n",
       "      <th></th>\n",
       "      <th>Geneid</th>\n",
       "      <th>Gene symbol</th>\n",
       "      <th>Gene name</th>\n",
       "      <th>Fold Change</th>\n",
       "      <th>q-value (%)</th>\n",
       "      <th>Negative Fold Change</th>\n",
       "    </tr>\n",
       "  </thead>\n",
       "  <tbody>\n",
       "    <tr>\n",
       "      <th>NM_130786</th>\n",
       "      <td>1.0</td>\n",
       "      <td>A1BG</td>\n",
       "      <td>alpha-1-B glycoprotein</td>\n",
       "      <td>2.176788</td>\n",
       "      <td>1.998233</td>\n",
       "      <td>NaN</td>\n",
       "    </tr>\n",
       "    <tr>\n",
       "      <th>NM_015665</th>\n",
       "      <td>8086.0</td>\n",
       "      <td>AAAS</td>\n",
       "      <td>achalasia, adrenocortical insufficiency, alacr...</td>\n",
       "      <td>1.952652</td>\n",
       "      <td>3.753678</td>\n",
       "      <td>NaN</td>\n",
       "    </tr>\n",
       "    <tr>\n",
       "      <th>NM_001087</th>\n",
       "      <td>14.0</td>\n",
       "      <td>AAMP</td>\n",
       "      <td>angio-associated, migratory cell protein</td>\n",
       "      <td>2.808783</td>\n",
       "      <td>0.637618</td>\n",
       "      <td>NaN</td>\n",
       "    </tr>\n",
       "    <tr>\n",
       "      <th>NM_025267</th>\n",
       "      <td>80755.0</td>\n",
       "      <td>AARSD1</td>\n",
       "      <td>alanyl-tRNA synthetase domain containing 1</td>\n",
       "      <td>1.962436</td>\n",
       "      <td>9.865391</td>\n",
       "      <td>NaN</td>\n",
       "    </tr>\n",
       "    <tr>\n",
       "      <th>NM_012089</th>\n",
       "      <td>23456.0</td>\n",
       "      <td>ABCB10</td>\n",
       "      <td>ATP-binding cassette, sub-family B (MDR/TAP), ...</td>\n",
       "      <td>0.225564</td>\n",
       "      <td>1.707905</td>\n",
       "      <td>-4.433328</td>\n",
       "    </tr>\n",
       "  </tbody>\n",
       "</table>\n",
       "</div>"
      ],
      "text/plain": [
       "            Geneid Gene symbol  \\\n",
       "NM_130786      1.0        A1BG   \n",
       "NM_015665   8086.0        AAAS   \n",
       "NM_001087     14.0        AAMP   \n",
       "NM_025267  80755.0      AARSD1   \n",
       "NM_012089  23456.0      ABCB10   \n",
       "\n",
       "                                                   Gene name  Fold Change  \\\n",
       "NM_130786                             alpha-1-B glycoprotein     2.176788   \n",
       "NM_015665  achalasia, adrenocortical insufficiency, alacr...     1.952652   \n",
       "NM_001087           angio-associated, migratory cell protein     2.808783   \n",
       "NM_025267         alanyl-tRNA synthetase domain containing 1     1.962436   \n",
       "NM_012089  ATP-binding cassette, sub-family B (MDR/TAP), ...     0.225564   \n",
       "\n",
       "           q-value (%)  Negative Fold Change  \n",
       "NM_130786     1.998233                   NaN  \n",
       "NM_015665     3.753678                   NaN  \n",
       "NM_001087     0.637618                   NaN  \n",
       "NM_025267     9.865391                   NaN  \n",
       "NM_012089     1.707905             -4.433328  "
      ]
     },
     "execution_count": 97,
     "metadata": {},
     "output_type": "execute_result"
    }
   ],
   "source": [
    "genelist.head()"
   ]
  },
  {
   "cell_type": "code",
   "execution_count": 99,
   "metadata": {
    "collapsed": false
   },
   "outputs": [
    {
     "data": {
      "text/html": [
       "<div>\n",
       "<table border=\"1\" class=\"dataframe\">\n",
       "  <thead>\n",
       "    <tr style=\"text-align: right;\">\n",
       "      <th></th>\n",
       "      <th>Geneid</th>\n",
       "      <th>Gene symbol</th>\n",
       "      <th>Gene name</th>\n",
       "      <th>Fold Change</th>\n",
       "      <th>q-value (%)</th>\n",
       "      <th>Negative Fold Change</th>\n",
       "    </tr>\n",
       "  </thead>\n",
       "  <tbody>\n",
       "    <tr>\n",
       "      <th>NM_148969</th>\n",
       "      <td>NaN</td>\n",
       "      <td>NaN</td>\n",
       "      <td>NaN</td>\n",
       "      <td>0.575574</td>\n",
       "      <td>6.349791</td>\n",
       "      <td>-1.737395</td>\n",
       "    </tr>\n",
       "    <tr>\n",
       "      <th>XM_496301</th>\n",
       "      <td>NaN</td>\n",
       "      <td>NaN</td>\n",
       "      <td>NaN</td>\n",
       "      <td>0.374709</td>\n",
       "      <td>3.399167</td>\n",
       "      <td>-2.668740</td>\n",
       "    </tr>\n",
       "    <tr>\n",
       "      <th>NM_181862</th>\n",
       "      <td>NaN</td>\n",
       "      <td>NaN</td>\n",
       "      <td>NaN</td>\n",
       "      <td>1.953817</td>\n",
       "      <td>8.270250</td>\n",
       "      <td>NaN</td>\n",
       "    </tr>\n",
       "    <tr>\n",
       "      <th>NM_145646</th>\n",
       "      <td>NaN</td>\n",
       "      <td>NaN</td>\n",
       "      <td>NaN</td>\n",
       "      <td>0.476765</td>\n",
       "      <td>8.270250</td>\n",
       "      <td>-2.097469</td>\n",
       "    </tr>\n",
       "    <tr>\n",
       "      <th>NM_153032</th>\n",
       "      <td>NaN</td>\n",
       "      <td>NaN</td>\n",
       "      <td>NaN</td>\n",
       "      <td>2.087563</td>\n",
       "      <td>5.763981</td>\n",
       "      <td>NaN</td>\n",
       "    </tr>\n",
       "  </tbody>\n",
       "</table>\n",
       "</div>"
      ],
      "text/plain": [
       "           Geneid Gene symbol Gene name  Fold Change  q-value (%)  \\\n",
       "NM_148969     NaN         NaN       NaN     0.575574     6.349791   \n",
       "XM_496301     NaN         NaN       NaN     0.374709     3.399167   \n",
       "NM_181862     NaN         NaN       NaN     1.953817     8.270250   \n",
       "NM_145646     NaN         NaN       NaN     0.476765     8.270250   \n",
       "NM_153032     NaN         NaN       NaN     2.087563     5.763981   \n",
       "\n",
       "           Negative Fold Change  \n",
       "NM_148969             -1.737395  \n",
       "XM_496301             -2.668740  \n",
       "NM_181862                   NaN  \n",
       "NM_145646             -2.097469  \n",
       "NM_153032                   NaN  "
      ]
     },
     "execution_count": 99,
     "metadata": {},
     "output_type": "execute_result"
    }
   ],
   "source": [
    "genelist.tail()"
   ]
  },
  {
   "cell_type": "code",
   "execution_count": 100,
   "metadata": {
    "collapsed": false
   },
   "outputs": [
    {
     "data": {
      "text/plain": [
       "Index(['Geneid', 'Gene symbol', 'Gene name', 'Fold Change', 'q-value (%)',\n",
       "       'Negative Fold Change'],\n",
       "      dtype='object')"
      ]
     },
     "execution_count": 100,
     "metadata": {},
     "output_type": "execute_result"
    }
   ],
   "source": [
    "#to get the column names\n",
    "genelist.columns"
   ]
  },
  {
   "cell_type": "code",
   "execution_count": 101,
   "metadata": {
    "collapsed": false
   },
   "outputs": [
    {
     "data": {
      "text/plain": [
       "Index(['NM_130786', 'NM_015665', 'NM_001087', 'NM_025267', 'NM_012089',\n",
       "       'NM_007189', 'NM_005692', 'NM_015407', 'NM_020676', 'NM_005759',\n",
       "       ...\n",
       "       'XM_372719', 'XM_498218', 'NM_016572', 'XM_379274', 'XM_114303',\n",
       "       'NM_148969', 'XM_496301', 'NM_181862', 'NM_145646', 'NM_153032'],\n",
       "      dtype='object', length=3085)"
      ]
     },
     "execution_count": 101,
     "metadata": {},
     "output_type": "execute_result"
    }
   ],
   "source": [
    "# to get the row names\n",
    "genelist.index"
   ]
  },
  {
   "cell_type": "code",
   "execution_count": 102,
   "metadata": {
    "collapsed": false
   },
   "outputs": [
    {
     "data": {
      "text/plain": [
       "array([[1.0, 'A1BG', 'alpha-1-B glycoprotein', 2.17678774,\n",
       "        1.9982331000000002, nan],\n",
       "       [8086.0, 'AAAS',\n",
       "        'achalasia, adrenocortical insufficiency, alacrimia (Allgrove, triple-A)',\n",
       "        1.95265248, 3.753678, nan],\n",
       "       [14.0, 'AAMP', 'angio-associated, migratory cell protein',\n",
       "        2.80878298, 0.637618, nan],\n",
       "       ..., \n",
       "       [nan, nan, nan, 1.95381657, 8.27025, nan],\n",
       "       [nan, nan, nan, 0.47676513, 8.27025, -2.097468831],\n",
       "       [nan, nan, nan, 2.08756334, 5.7639809, nan]], dtype=object)"
      ]
     },
     "execution_count": 102,
     "metadata": {},
     "output_type": "execute_result"
    }
   ],
   "source": [
    "genelist.values"
   ]
  },
  {
   "cell_type": "code",
   "execution_count": 103,
   "metadata": {
    "collapsed": false
   },
   "outputs": [
    {
     "data": {
      "text/plain": [
       "(3085, 6)"
      ]
     },
     "execution_count": 103,
     "metadata": {},
     "output_type": "execute_result"
    }
   ],
   "source": [
    "genelist.shape"
   ]
  },
  {
   "cell_type": "code",
   "execution_count": 104,
   "metadata": {
    "collapsed": false
   },
   "outputs": [
    {
     "name": "stderr",
     "output_type": "stream",
     "text": [
      "//anaconda/lib/python3.5/site-packages/numpy/lib/function_base.py:3834: RuntimeWarning: Invalid value encountered in percentile\n",
      "  RuntimeWarning)\n"
     ]
    },
    {
     "data": {
      "text/html": [
       "<div>\n",
       "<table border=\"1\" class=\"dataframe\">\n",
       "  <thead>\n",
       "    <tr style=\"text-align: right;\">\n",
       "      <th></th>\n",
       "      <th>Geneid</th>\n",
       "      <th>Fold Change</th>\n",
       "      <th>q-value (%)</th>\n",
       "      <th>Negative Fold Change</th>\n",
       "    </tr>\n",
       "  </thead>\n",
       "  <tbody>\n",
       "    <tr>\n",
       "      <th>count</th>\n",
       "      <td>2932.000000</td>\n",
       "      <td>3085.000000</td>\n",
       "      <td>3085.000000</td>\n",
       "      <td>838.000000</td>\n",
       "    </tr>\n",
       "    <tr>\n",
       "      <th>mean</th>\n",
       "      <td>43870.984993</td>\n",
       "      <td>1.764652</td>\n",
       "      <td>4.961999</td>\n",
       "      <td>-2.673922</td>\n",
       "    </tr>\n",
       "    <tr>\n",
       "      <th>std</th>\n",
       "      <td>64141.163141</td>\n",
       "      <td>1.341177</td>\n",
       "      <td>3.038489</td>\n",
       "      <td>1.097826</td>\n",
       "    </tr>\n",
       "    <tr>\n",
       "      <th>min</th>\n",
       "      <td>1.000000</td>\n",
       "      <td>0.078751</td>\n",
       "      <td>0.000000</td>\n",
       "      <td>-12.698268</td>\n",
       "    </tr>\n",
       "    <tr>\n",
       "      <th>25%</th>\n",
       "      <td>NaN</td>\n",
       "      <td>0.542572</td>\n",
       "      <td>2.103816</td>\n",
       "      <td>NaN</td>\n",
       "    </tr>\n",
       "    <tr>\n",
       "      <th>50%</th>\n",
       "      <td>NaN</td>\n",
       "      <td>1.844670</td>\n",
       "      <td>4.611046</td>\n",
       "      <td>NaN</td>\n",
       "    </tr>\n",
       "    <tr>\n",
       "      <th>75%</th>\n",
       "      <td>NaN</td>\n",
       "      <td>2.207867</td>\n",
       "      <td>8.039531</td>\n",
       "      <td>NaN</td>\n",
       "    </tr>\n",
       "    <tr>\n",
       "      <th>max</th>\n",
       "      <td>654364.000000</td>\n",
       "      <td>24.535279</td>\n",
       "      <td>9.865391</td>\n",
       "      <td>-1.593398</td>\n",
       "    </tr>\n",
       "  </tbody>\n",
       "</table>\n",
       "</div>"
      ],
      "text/plain": [
       "              Geneid  Fold Change  q-value (%)  Negative Fold Change\n",
       "count    2932.000000  3085.000000  3085.000000            838.000000\n",
       "mean    43870.984993     1.764652     4.961999             -2.673922\n",
       "std     64141.163141     1.341177     3.038489              1.097826\n",
       "min         1.000000     0.078751     0.000000            -12.698268\n",
       "25%              NaN     0.542572     2.103816                   NaN\n",
       "50%              NaN     1.844670     4.611046                   NaN\n",
       "75%              NaN     2.207867     8.039531                   NaN\n",
       "max    654364.000000    24.535279     9.865391             -1.593398"
      ]
     },
     "execution_count": 104,
     "metadata": {},
     "output_type": "execute_result"
    }
   ],
   "source": [
    "#good for numerical data, especially when you need to plot the data\n",
    "genelist.describe()"
   ]
  },
  {
   "cell_type": "markdown",
   "metadata": {},
   "source": [
    "## Indexing the Data"
   ]
  },
  {
   "cell_type": "markdown",
   "metadata": {},
   "source": [
    "First, we want to index the dataframe.  How do we get rows and columns that are interesting?"
   ]
  },
  {
   "cell_type": "markdown",
   "metadata": {},
   "source": [
    "```python\n",
    "Indexing is in this general format:\n",
    "dataframe[column name]\n",
    "dataframe.ix[rows, columns]\n",
    "\n",
    "#one column\n",
    "genelist['Geneid']\n",
    "\n",
    "#multiple columns\n",
    "genelist[['Geneid', 'Gene symbol']]\n",
    "\n",
    "#one row and one column    \n",
    "genelist.ix['NM_130786','Geneid']\n",
    "genelist.ix['NM_130786', 0]\n",
    "genelist.ix[0,0]\n",
    "\n",
    "#all values in one column\n",
    "genelist.ix[:,'Geneid']\n",
    "\n",
    "#all values in one row\n",
    "genelist.ix['NM_130786', :]\n",
    "\n",
    "#all values in multiple columns, put multiple items into list, must be consistent with datatypes in list\n",
    "genelist.ix[:, ['Geneid', 'Gene name']]\n",
    "genelist.ix[:, 0:3]\n",
    "```"
   ]
  },
  {
   "cell_type": "markdown",
   "metadata": {},
   "source": [
    "## Create exercise"
   ]
  },
  {
   "cell_type": "code",
   "execution_count": 128,
   "metadata": {
    "collapsed": false
   },
   "outputs": [
    {
     "data": {
      "text/plain": [
       "dtype('float64')"
      ]
     },
     "execution_count": 128,
     "metadata": {},
     "output_type": "execute_result"
    }
   ],
   "source": [
    "genelist['Geneid'].dtype"
   ]
  },
  {
   "cell_type": "code",
   "execution_count": 129,
   "metadata": {
    "collapsed": false
   },
   "outputs": [
    {
     "data": {
      "text/plain": [
       "NM_130786                      1.0\n",
       "NM_015665                   8086.0\n",
       "NM_001087                     14.0\n",
       "NM_025267                  80755.0\n",
       "NM_012089                  23456.0\n",
       "NM_007189                  10061.0\n",
       "NM_005692                  10061.0\n",
       "NM_015407                  25864.0\n",
       "NM_020676                  57406.0\n",
       "NM_005759                  10152.0\n",
       "NM_014945                  22885.0\n",
       "NM_013375                  29777.0\n",
       "NM_005891                     39.0\n",
       "NM_022914                  65057.0\n",
       "NM_181865                  11332.0\n",
       "NM_181866                  11332.0\n",
       "NM_181864                  11332.0\n",
       "NM_007274                  11332.0\n",
       "NM_004300                     52.0\n",
       "NM_177554                     52.0\n",
       "NM_007099                     52.0\n",
       "NM_203372                   2181.0\n",
       "NM_004457                   2181.0\n",
       "NM_005736                  10121.0\n",
       "NM_005735                  10120.0\n",
       "NM_020445                  57180.0\n",
       "NM_000666                     95.0\n",
       "NM_001107                     97.0\n",
       "NM_138448                     98.0\n",
       "NM_000022                    100.0\n",
       "                            ...   \n",
       "NM_021906                      nan\n",
       "NM_145323                      nan\n",
       "XM_039627                      nan\n",
       "NM_016496                  51257.0\n",
       "NM_148968                      nan\n",
       "XM_211529                      nan\n",
       "XM_372143                      nan\n",
       "NM_148973                      nan\n",
       "NM_148972                      nan\n",
       "NM_002097                      nan\n",
       "NM_015022                      nan\n",
       "XM_379250                      nan\n",
       "AFFX-HUMRGE/M10098_5_at        nan\n",
       "XM_374065                      nan\n",
       "XM_379694                      nan\n",
       "XM_371848                      nan\n",
       "XR_000223                      nan\n",
       "NR_002229                      nan\n",
       "XM_371838                      nan\n",
       "XM_499128                      nan\n",
       "XM_372719                      nan\n",
       "XM_498218                      nan\n",
       "NM_016572                      nan\n",
       "XM_379274                      nan\n",
       "XM_114303                      nan\n",
       "NM_148969                      nan\n",
       "XM_496301                      nan\n",
       "NM_181862                      nan\n",
       "NM_145646                      nan\n",
       "NM_153032                      nan\n",
       "Name: Geneid, dtype: object"
      ]
     },
     "execution_count": 129,
     "metadata": {},
     "output_type": "execute_result"
    }
   ],
   "source": [
    "genelist['Geneid'].astype('str')"
   ]
  },
  {
   "cell_type": "code",
   "execution_count": 130,
   "metadata": {
    "collapsed": false
   },
   "outputs": [
    {
     "data": {
      "text/plain": [
       "dtype('float64')"
      ]
     },
     "execution_count": 130,
     "metadata": {},
     "output_type": "execute_result"
    }
   ],
   "source": [
    "genelist['Geneid'].dtype"
   ]
  },
  {
   "cell_type": "code",
   "execution_count": 131,
   "metadata": {
    "collapsed": false
   },
   "outputs": [],
   "source": [
    "#reassinging values in a column in place\n",
    "genelist['Geneid'] = genelist['Geneid'].astype('str')"
   ]
  },
  {
   "cell_type": "code",
   "execution_count": 133,
   "metadata": {
    "collapsed": false
   },
   "outputs": [
    {
     "data": {
      "text/plain": [
       "dtype('O')"
      ]
     },
     "execution_count": 133,
     "metadata": {},
     "output_type": "execute_result"
    }
   ],
   "source": [
    "genelist['Geneid'].dtype"
   ]
  },
  {
   "cell_type": "code",
   "execution_count": 134,
   "metadata": {
    "collapsed": false
   },
   "outputs": [
    {
     "name": "stderr",
     "output_type": "stream",
     "text": [
      "//anaconda/lib/python3.5/site-packages/numpy/lib/function_base.py:3834: RuntimeWarning: Invalid value encountered in percentile\n",
      "  RuntimeWarning)\n"
     ]
    },
    {
     "data": {
      "text/html": [
       "<div>\n",
       "<table border=\"1\" class=\"dataframe\">\n",
       "  <thead>\n",
       "    <tr style=\"text-align: right;\">\n",
       "      <th></th>\n",
       "      <th>Fold Change</th>\n",
       "      <th>q-value (%)</th>\n",
       "      <th>Negative Fold Change</th>\n",
       "    </tr>\n",
       "  </thead>\n",
       "  <tbody>\n",
       "    <tr>\n",
       "      <th>count</th>\n",
       "      <td>3085.000000</td>\n",
       "      <td>3085.000000</td>\n",
       "      <td>838.000000</td>\n",
       "    </tr>\n",
       "    <tr>\n",
       "      <th>mean</th>\n",
       "      <td>1.764652</td>\n",
       "      <td>4.961999</td>\n",
       "      <td>-2.673922</td>\n",
       "    </tr>\n",
       "    <tr>\n",
       "      <th>std</th>\n",
       "      <td>1.341177</td>\n",
       "      <td>3.038489</td>\n",
       "      <td>1.097826</td>\n",
       "    </tr>\n",
       "    <tr>\n",
       "      <th>min</th>\n",
       "      <td>0.078751</td>\n",
       "      <td>0.000000</td>\n",
       "      <td>-12.698268</td>\n",
       "    </tr>\n",
       "    <tr>\n",
       "      <th>25%</th>\n",
       "      <td>0.542572</td>\n",
       "      <td>2.103816</td>\n",
       "      <td>NaN</td>\n",
       "    </tr>\n",
       "    <tr>\n",
       "      <th>50%</th>\n",
       "      <td>1.844670</td>\n",
       "      <td>4.611046</td>\n",
       "      <td>NaN</td>\n",
       "    </tr>\n",
       "    <tr>\n",
       "      <th>75%</th>\n",
       "      <td>2.207867</td>\n",
       "      <td>8.039531</td>\n",
       "      <td>NaN</td>\n",
       "    </tr>\n",
       "    <tr>\n",
       "      <th>max</th>\n",
       "      <td>24.535279</td>\n",
       "      <td>9.865391</td>\n",
       "      <td>-1.593398</td>\n",
       "    </tr>\n",
       "  </tbody>\n",
       "</table>\n",
       "</div>"
      ],
      "text/plain": [
       "       Fold Change  q-value (%)  Negative Fold Change\n",
       "count  3085.000000  3085.000000            838.000000\n",
       "mean      1.764652     4.961999             -2.673922\n",
       "std       1.341177     3.038489              1.097826\n",
       "min       0.078751     0.000000            -12.698268\n",
       "25%       0.542572     2.103816                   NaN\n",
       "50%       1.844670     4.611046                   NaN\n",
       "75%       2.207867     8.039531                   NaN\n",
       "max      24.535279     9.865391             -1.593398"
      ]
     },
     "execution_count": 134,
     "metadata": {},
     "output_type": "execute_result"
    }
   ],
   "source": [
    "genelist.describe()"
   ]
  },
  {
   "cell_type": "markdown",
   "metadata": {},
   "source": [
    "## Basic plots of the data"
   ]
  },
  {
   "cell_type": "markdown",
   "metadata": {},
   "source": [
    "I would like to work only with the numerical data see the distribution of values for specific columns. "
   ]
  },
  {
   "cell_type": "code",
   "execution_count": 139,
   "metadata": {
    "collapsed": false
   },
   "outputs": [
    {
     "data": {
      "text/plain": [
       "<matplotlib.axes._subplots.AxesSubplot at 0x1193a7630>"
      ]
     },
     "execution_count": 139,
     "metadata": {},
     "output_type": "execute_result"
    },
    {
     "data": {
      "image/png": "[encoded data removed]",
      "text/plain": [
       "<matplotlib.figure.Figure at 0x11902ca20>"
      ]
     },
     "metadata": {},
     "output_type": "display_data"
    }
   ],
   "source": [
    "genelist['Fold Change'].hist(bins=50)"
   ]
  },
  {
   "cell_type": "markdown",
   "metadata": {},
   "source": [
    "We can see that there are a lot of values around zero and no negative values.  Meaning if we want to at some point look at negative fold-changes the authors have wierdly put those in the adjacent column.  Also, the authors titled this figure, \"Significant translational changes\", without defining significant.  So, lets try to see if they used some sort of FDR %threshold."
   ]
  },
  {
   "cell_type": "code",
   "execution_count": 140,
   "metadata": {
    "collapsed": false
   },
   "outputs": [
    {
     "data": {
      "text/plain": [
       "<matplotlib.axes._subplots.AxesSubplot at 0x119e43e80>"
      ]
     },
     "execution_count": 140,
     "metadata": {},
     "output_type": "execute_result"
    },
    {
     "data": {
      "image/png": "[encoded data removed]",
      "text/plain": [
       "<matplotlib.figure.Figure at 0x119af6198>"
      ]
     },
     "metadata": {},
     "output_type": "display_data"
    }
   ],
   "source": [
    "genelist['q-value (%)'].hist(bins=50)"
   ]
  },
  {
   "cell_type": "markdown",
   "metadata": {},
   "source": [
    "## Filtering"
   ]
  },
  {
   "cell_type": "markdown",
   "metadata": {},
   "source": [
    "We see now that there are some weird things in the data.  There are genes that lack names, which are not useful for downstream pathway analysis and for reasons unknown, the authors provided downregulated genes as negative values or fractions of one.  So we are going to try and fix some of these things.  We also have 3,085 probe values to work with, and if you've ever tried to validate 3000 target genes at the bench, I'm feeling bad for you.  So we are going to try and reduce our targets trying several strategies. "
   ]
  },
  {
   "cell_type": "markdown",
   "metadata": {},
   "source": [
    "## Filtering the data for smaller gene-list using conditionals in Pandas."
   ]
  },
  {
   "cell_type": "markdown",
   "metadata": {},
   "source": [
    "Some ways to reduce the gene-list:  \n",
    "1. Filter out genes without gene symbols\n",
    "2. Make the q-value cut-off more strict\n",
    "3. Employ a fold-change cut-off"
   ]
  },
  {
   "cell_type": "markdown",
   "metadata": {},
   "source": [
    "### Filter by q-value"
   ]
  },
  {
   "cell_type": "markdown",
   "metadata": {},
   "source": [
    "Pull out rows where q-value is < 5% by using a Boolean mask.  Here is what the mask looks like:"
   ]
  },
  {
   "cell_type": "code",
   "execution_count": 143,
   "metadata": {
    "collapsed": false
   },
   "outputs": [
    {
     "data": {
      "text/plain": [
       "NM_130786                   True\n",
       "NM_015665                   True\n",
       "NM_001087                   True\n",
       "NM_025267                  False\n",
       "NM_012089                   True\n",
       "NM_007189                  False\n",
       "NM_005692                  False\n",
       "NM_015407                  False\n",
       "NM_020676                  False\n",
       "NM_005759                  False\n",
       "NM_014945                   True\n",
       "NM_013375                   True\n",
       "NM_005891                  False\n",
       "NM_022914                  False\n",
       "NM_181865                  False\n",
       "NM_181866                  False\n",
       "NM_181864                  False\n",
       "NM_007274                  False\n",
       "NM_004300                   True\n",
       "NM_177554                   True\n",
       "NM_007099                   True\n",
       "NM_203372                   True\n",
       "NM_004457                   True\n",
       "NM_005736                   True\n",
       "NM_005735                  False\n",
       "NM_020445                  False\n",
       "NM_000666                  False\n",
       "NM_001107                  False\n",
       "NM_138448                  False\n",
       "NM_000022                   True\n",
       "                           ...  \n",
       "NM_021906                   True\n",
       "NM_145323                   True\n",
       "XM_039627                  False\n",
       "NM_016496                   True\n",
       "NM_148968                  False\n",
       "XM_211529                   True\n",
       "XM_372143                   True\n",
       "NM_148973                  False\n",
       "NM_148972                  False\n",
       "NM_002097                  False\n",
       "NM_015022                  False\n",
       "XM_379250                   True\n",
       "AFFX-HUMRGE/M10098_5_at     True\n",
       "XM_374065                   True\n",
       "XM_379694                   True\n",
       "XM_371848                   True\n",
       "XR_000223                   True\n",
       "NR_002229                  False\n",
       "XM_371838                  False\n",
       "XM_499128                   True\n",
       "XM_372719                   True\n",
       "XM_498218                  False\n",
       "NM_016572                   True\n",
       "XM_379274                   True\n",
       "XM_114303                   True\n",
       "NM_148969                  False\n",
       "XM_496301                   True\n",
       "NM_181862                  False\n",
       "NM_145646                  False\n",
       "NM_153032                  False\n",
       "Name: q-value (%), dtype: bool"
      ]
     },
     "execution_count": 143,
     "metadata": {},
     "output_type": "execute_result"
    }
   ],
   "source": [
    "mask = genelist['q-value (%)']<5\n",
    "mask"
   ]
  },
  {
   "cell_type": "markdown",
   "metadata": {},
   "source": [
    "To index into the dataframe, plug the mask into the rows index:\n",
    "```python\n",
    "dataframe.ix[Boolean mask, columns]\n",
    "```"
   ]
  },
  {
   "cell_type": "code",
   "execution_count": 144,
   "metadata": {
    "collapsed": false
   },
   "outputs": [
    {
     "data": {
      "text/html": [
       "<div>\n",
       "<table border=\"1\" class=\"dataframe\">\n",
       "  <thead>\n",
       "    <tr style=\"text-align: right;\">\n",
       "      <th></th>\n",
       "      <th>Geneid</th>\n",
       "      <th>Gene symbol</th>\n",
       "      <th>Gene name</th>\n",
       "      <th>Fold Change</th>\n",
       "      <th>q-value (%)</th>\n",
       "      <th>Negative Fold Change</th>\n",
       "    </tr>\n",
       "  </thead>\n",
       "  <tbody>\n",
       "    <tr>\n",
       "      <th>NM_130786</th>\n",
       "      <td>1.0</td>\n",
       "      <td>A1BG</td>\n",
       "      <td>alpha-1-B glycoprotein</td>\n",
       "      <td>2.176788</td>\n",
       "      <td>1.998233</td>\n",
       "      <td>NaN</td>\n",
       "    </tr>\n",
       "    <tr>\n",
       "      <th>NM_015665</th>\n",
       "      <td>8086.0</td>\n",
       "      <td>AAAS</td>\n",
       "      <td>achalasia, adrenocortical insufficiency, alacr...</td>\n",
       "      <td>1.952652</td>\n",
       "      <td>3.753678</td>\n",
       "      <td>NaN</td>\n",
       "    </tr>\n",
       "    <tr>\n",
       "      <th>NM_001087</th>\n",
       "      <td>14.0</td>\n",
       "      <td>AAMP</td>\n",
       "      <td>angio-associated, migratory cell protein</td>\n",
       "      <td>2.808783</td>\n",
       "      <td>0.637618</td>\n",
       "      <td>NaN</td>\n",
       "    </tr>\n",
       "    <tr>\n",
       "      <th>NM_012089</th>\n",
       "      <td>23456.0</td>\n",
       "      <td>ABCB10</td>\n",
       "      <td>ATP-binding cassette, sub-family B (MDR/TAP), ...</td>\n",
       "      <td>0.225564</td>\n",
       "      <td>1.707905</td>\n",
       "      <td>-4.433328</td>\n",
       "    </tr>\n",
       "    <tr>\n",
       "      <th>NM_014945</th>\n",
       "      <td>22885.0</td>\n",
       "      <td>ABLIM3</td>\n",
       "      <td>actin binding LIM protein family, member 3</td>\n",
       "      <td>2.205244</td>\n",
       "      <td>4.611046</td>\n",
       "      <td>NaN</td>\n",
       "    </tr>\n",
       "    <tr>\n",
       "      <th>NM_013375</th>\n",
       "      <td>29777.0</td>\n",
       "      <td>ABT1</td>\n",
       "      <td>activator of basal transcription 1</td>\n",
       "      <td>3.284837</td>\n",
       "      <td>0.637618</td>\n",
       "      <td>NaN</td>\n",
       "    </tr>\n",
       "    <tr>\n",
       "      <th>NM_004300</th>\n",
       "      <td>52.0</td>\n",
       "      <td>ACP1</td>\n",
       "      <td>acid phosphatase 1, soluble</td>\n",
       "      <td>2.790544</td>\n",
       "      <td>0.637618</td>\n",
       "      <td>NaN</td>\n",
       "    </tr>\n",
       "    <tr>\n",
       "      <th>NM_177554</th>\n",
       "      <td>52.0</td>\n",
       "      <td>ACP1</td>\n",
       "      <td>acid phosphatase 1, soluble</td>\n",
       "      <td>2.288103</td>\n",
       "      <td>1.219488</td>\n",
       "      <td>NaN</td>\n",
       "    </tr>\n",
       "    <tr>\n",
       "      <th>NM_007099</th>\n",
       "      <td>52.0</td>\n",
       "      <td>ACP1</td>\n",
       "      <td>acid phosphatase 1, soluble</td>\n",
       "      <td>2.288103</td>\n",
       "      <td>1.219488</td>\n",
       "      <td>NaN</td>\n",
       "    </tr>\n",
       "    <tr>\n",
       "      <th>NM_203372</th>\n",
       "      <td>2181.0</td>\n",
       "      <td>ACSL3</td>\n",
       "      <td>acyl-CoA synthetase long-chain family member 3</td>\n",
       "      <td>0.254533</td>\n",
       "      <td>1.707905</td>\n",
       "      <td>-3.928758</td>\n",
       "    </tr>\n",
       "    <tr>\n",
       "      <th>NM_004457</th>\n",
       "      <td>2181.0</td>\n",
       "      <td>ACSL3</td>\n",
       "      <td>acyl-CoA synthetase long-chain family member 3</td>\n",
       "      <td>0.254533</td>\n",
       "      <td>1.707905</td>\n",
       "      <td>-3.928758</td>\n",
       "    </tr>\n",
       "    <tr>\n",
       "      <th>NM_005736</th>\n",
       "      <td>10121.0</td>\n",
       "      <td>ACTR1A</td>\n",
       "      <td>ARP1 actin-related protein 1 homolog A, centra...</td>\n",
       "      <td>2.088440</td>\n",
       "      <td>2.473819</td>\n",
       "      <td>NaN</td>\n",
       "    </tr>\n",
       "    <tr>\n",
       "      <th>NM_000022</th>\n",
       "      <td>100.0</td>\n",
       "      <td>ADA</td>\n",
       "      <td>adenosine deaminase</td>\n",
       "      <td>3.166759</td>\n",
       "      <td>1.021824</td>\n",
       "      <td>NaN</td>\n",
       "    </tr>\n",
       "    <tr>\n",
       "      <th>NM_003183</th>\n",
       "      <td>6868.0</td>\n",
       "      <td>ADAM17</td>\n",
       "      <td>ADAM metallopeptidase domain 17 (tumor necrosi...</td>\n",
       "      <td>0.416173</td>\n",
       "      <td>2.491259</td>\n",
       "      <td>-2.402845</td>\n",
       "    </tr>\n",
       "    <tr>\n",
       "      <th>NM_015999</th>\n",
       "      <td>51094.0</td>\n",
       "      <td>ADIPOR1</td>\n",
       "      <td>adiponectin receptor 1</td>\n",
       "      <td>1.894437</td>\n",
       "      <td>2.473819</td>\n",
       "      <td>NaN</td>\n",
       "    </tr>\n",
       "    <tr>\n",
       "      <th>NM_000644</th>\n",
       "      <td>178.0</td>\n",
       "      <td>AGL</td>\n",
       "      <td>amylo-1, 6-glucosidase, 4-alpha-glucanotransfe...</td>\n",
       "      <td>0.346660</td>\n",
       "      <td>3.399167</td>\n",
       "      <td>-2.884670</td>\n",
       "    </tr>\n",
       "    <tr>\n",
       "      <th>NM_000643</th>\n",
       "      <td>178.0</td>\n",
       "      <td>AGL</td>\n",
       "      <td>amylo-1, 6-glucosidase, 4-alpha-glucanotransfe...</td>\n",
       "      <td>0.346660</td>\n",
       "      <td>3.399167</td>\n",
       "      <td>-2.884670</td>\n",
       "    </tr>\n",
       "    <tr>\n",
       "      <th>NM_000646</th>\n",
       "      <td>178.0</td>\n",
       "      <td>AGL</td>\n",
       "      <td>amylo-1, 6-glucosidase, 4-alpha-glucanotransfe...</td>\n",
       "      <td>0.346660</td>\n",
       "      <td>3.399167</td>\n",
       "      <td>-2.884670</td>\n",
       "    </tr>\n",
       "    <tr>\n",
       "      <th>NM_000028</th>\n",
       "      <td>178.0</td>\n",
       "      <td>AGL</td>\n",
       "      <td>amylo-1, 6-glucosidase, 4-alpha-glucanotransfe...</td>\n",
       "      <td>0.346660</td>\n",
       "      <td>3.399167</td>\n",
       "      <td>-2.884670</td>\n",
       "    </tr>\n",
       "    <tr>\n",
       "      <th>NM_000642</th>\n",
       "      <td>178.0</td>\n",
       "      <td>AGL</td>\n",
       "      <td>amylo-1, 6-glucosidase, 4-alpha-glucanotransfe...</td>\n",
       "      <td>0.346660</td>\n",
       "      <td>3.399167</td>\n",
       "      <td>-2.884670</td>\n",
       "    </tr>\n",
       "    <tr>\n",
       "      <th>NM_000645</th>\n",
       "      <td>178.0</td>\n",
       "      <td>AGL</td>\n",
       "      <td>amylo-1, 6-glucosidase, 4-alpha-glucanotransfe...</td>\n",
       "      <td>0.346660</td>\n",
       "      <td>3.399167</td>\n",
       "      <td>-2.884670</td>\n",
       "    </tr>\n",
       "    <tr>\n",
       "      <th>NM_003659</th>\n",
       "      <td>8540.0</td>\n",
       "      <td>AGPS</td>\n",
       "      <td>alkylglycerone phosphate synthase</td>\n",
       "      <td>2.216233</td>\n",
       "      <td>1.939343</td>\n",
       "      <td>NaN</td>\n",
       "    </tr>\n",
       "    <tr>\n",
       "      <th>NM_006408</th>\n",
       "      <td>10551.0</td>\n",
       "      <td>AGR2</td>\n",
       "      <td>anterior gradient 2 homolog (Xenopus laevis)</td>\n",
       "      <td>0.372764</td>\n",
       "      <td>1.707905</td>\n",
       "      <td>-2.682662</td>\n",
       "    </tr>\n",
       "    <tr>\n",
       "      <th>NM_015446</th>\n",
       "      <td>25909.0</td>\n",
       "      <td>AHCTF1</td>\n",
       "      <td>AT hook containing transcription factor 1</td>\n",
       "      <td>0.240616</td>\n",
       "      <td>1.707905</td>\n",
       "      <td>-4.155992</td>\n",
       "    </tr>\n",
       "    <tr>\n",
       "      <th>NM_001621</th>\n",
       "      <td>196.0</td>\n",
       "      <td>AHR</td>\n",
       "      <td>aryl hydrocarbon receptor</td>\n",
       "      <td>0.298388</td>\n",
       "      <td>1.707905</td>\n",
       "      <td>-3.351336</td>\n",
       "    </tr>\n",
       "    <tr>\n",
       "      <th>NM_000476</th>\n",
       "      <td>203.0</td>\n",
       "      <td>AK1</td>\n",
       "      <td>adenylate kinase 1</td>\n",
       "      <td>2.667675</td>\n",
       "      <td>0.637618</td>\n",
       "      <td>NaN</td>\n",
       "    </tr>\n",
       "    <tr>\n",
       "      <th>NM_013411</th>\n",
       "      <td>204.0</td>\n",
       "      <td>AK2</td>\n",
       "      <td>adenylate kinase 2</td>\n",
       "      <td>2.246527</td>\n",
       "      <td>1.561308</td>\n",
       "      <td>NaN</td>\n",
       "    </tr>\n",
       "    <tr>\n",
       "      <th>NM_001625</th>\n",
       "      <td>204.0</td>\n",
       "      <td>AK2</td>\n",
       "      <td>adenylate kinase 2</td>\n",
       "      <td>3.030583</td>\n",
       "      <td>0.885581</td>\n",
       "      <td>NaN</td>\n",
       "    </tr>\n",
       "    <tr>\n",
       "      <th>NM_016248</th>\n",
       "      <td>11215.0</td>\n",
       "      <td>AKAP11</td>\n",
       "      <td>A kinase (PRKA) anchor protein 11</td>\n",
       "      <td>0.446486</td>\n",
       "      <td>4.319905</td>\n",
       "      <td>-2.239711</td>\n",
       "    </tr>\n",
       "    <tr>\n",
       "      <th>NM_020299</th>\n",
       "      <td>57016.0</td>\n",
       "      <td>AKR1B10</td>\n",
       "      <td>aldo-keto reductase family 1, member B10 (aldo...</td>\n",
       "      <td>3.429254</td>\n",
       "      <td>4.319905</td>\n",
       "      <td>NaN</td>\n",
       "    </tr>\n",
       "    <tr>\n",
       "      <th>...</th>\n",
       "      <td>...</td>\n",
       "      <td>...</td>\n",
       "      <td>...</td>\n",
       "      <td>...</td>\n",
       "      <td>...</td>\n",
       "      <td>...</td>\n",
       "    </tr>\n",
       "    <tr>\n",
       "      <th>NM_007233</th>\n",
       "      <td>nan</td>\n",
       "      <td>NaN</td>\n",
       "      <td>NaN</td>\n",
       "      <td>2.695370</td>\n",
       "      <td>0.637618</td>\n",
       "      <td>NaN</td>\n",
       "    </tr>\n",
       "    <tr>\n",
       "      <th>NM_203353</th>\n",
       "      <td>nan</td>\n",
       "      <td>NaN</td>\n",
       "      <td>NaN</td>\n",
       "      <td>2.521016</td>\n",
       "      <td>0.637618</td>\n",
       "      <td>NaN</td>\n",
       "    </tr>\n",
       "    <tr>\n",
       "      <th>XM_495965</th>\n",
       "      <td>nan</td>\n",
       "      <td>NaN</td>\n",
       "      <td>NaN</td>\n",
       "      <td>2.227140</td>\n",
       "      <td>1.300108</td>\n",
       "      <td>NaN</td>\n",
       "    </tr>\n",
       "    <tr>\n",
       "      <th>XM_376247</th>\n",
       "      <td>nan</td>\n",
       "      <td>NaN</td>\n",
       "      <td>NaN</td>\n",
       "      <td>2.330743</td>\n",
       "      <td>3.950857</td>\n",
       "      <td>NaN</td>\n",
       "    </tr>\n",
       "    <tr>\n",
       "      <th>XM_499012</th>\n",
       "      <td>nan</td>\n",
       "      <td>NaN</td>\n",
       "      <td>NaN</td>\n",
       "      <td>1.963309</td>\n",
       "      <td>2.601228</td>\n",
       "      <td>NaN</td>\n",
       "    </tr>\n",
       "    <tr>\n",
       "      <th>XM_531426</th>\n",
       "      <td>nan</td>\n",
       "      <td>NaN</td>\n",
       "      <td>NaN</td>\n",
       "      <td>0.432487</td>\n",
       "      <td>3.235147</td>\n",
       "      <td>-2.312206</td>\n",
       "    </tr>\n",
       "    <tr>\n",
       "      <th>XM_497679</th>\n",
       "      <td>nan</td>\n",
       "      <td>NaN</td>\n",
       "      <td>NaN</td>\n",
       "      <td>1.888995</td>\n",
       "      <td>3.753678</td>\n",
       "      <td>NaN</td>\n",
       "    </tr>\n",
       "    <tr>\n",
       "      <th>XM_379736</th>\n",
       "      <td>nan</td>\n",
       "      <td>NaN</td>\n",
       "      <td>NaN</td>\n",
       "      <td>1.999065</td>\n",
       "      <td>3.797649</td>\n",
       "      <td>NaN</td>\n",
       "    </tr>\n",
       "    <tr>\n",
       "      <th>NM_178225</th>\n",
       "      <td>nan</td>\n",
       "      <td>NaN</td>\n",
       "      <td>NaN</td>\n",
       "      <td>1.754399</td>\n",
       "      <td>3.797649</td>\n",
       "      <td>NaN</td>\n",
       "    </tr>\n",
       "    <tr>\n",
       "      <th>NM_001002256</th>\n",
       "      <td>nan</td>\n",
       "      <td>NaN</td>\n",
       "      <td>NaN</td>\n",
       "      <td>1.839806</td>\n",
       "      <td>3.797649</td>\n",
       "      <td>NaN</td>\n",
       "    </tr>\n",
       "    <tr>\n",
       "      <th>XM_370878</th>\n",
       "      <td>nan</td>\n",
       "      <td>NaN</td>\n",
       "      <td>NaN</td>\n",
       "      <td>0.546714</td>\n",
       "      <td>4.611046</td>\n",
       "      <td>-1.829111</td>\n",
       "    </tr>\n",
       "    <tr>\n",
       "      <th>XM_374765</th>\n",
       "      <td>nan</td>\n",
       "      <td>NaN</td>\n",
       "      <td>NaN</td>\n",
       "      <td>0.371331</td>\n",
       "      <td>1.998233</td>\n",
       "      <td>-2.693017</td>\n",
       "    </tr>\n",
       "    <tr>\n",
       "      <th>NM_004652</th>\n",
       "      <td>nan</td>\n",
       "      <td>NaN</td>\n",
       "      <td>NaN</td>\n",
       "      <td>0.441336</td>\n",
       "      <td>3.753678</td>\n",
       "      <td>-2.265846</td>\n",
       "    </tr>\n",
       "    <tr>\n",
       "      <th>NM_021906</th>\n",
       "      <td>nan</td>\n",
       "      <td>NaN</td>\n",
       "      <td>NaN</td>\n",
       "      <td>0.441336</td>\n",
       "      <td>3.753678</td>\n",
       "      <td>-2.265846</td>\n",
       "    </tr>\n",
       "    <tr>\n",
       "      <th>NM_145323</th>\n",
       "      <td>nan</td>\n",
       "      <td>NaN</td>\n",
       "      <td>NaN</td>\n",
       "      <td>0.266313</td>\n",
       "      <td>2.016183</td>\n",
       "      <td>-3.754986</td>\n",
       "    </tr>\n",
       "    <tr>\n",
       "      <th>NM_016496</th>\n",
       "      <td>51257.0</td>\n",
       "      <td>NaN</td>\n",
       "      <td>membrane-associated ring finger (C3HC4) 2</td>\n",
       "      <td>2.220592</td>\n",
       "      <td>4.319905</td>\n",
       "      <td>NaN</td>\n",
       "    </tr>\n",
       "    <tr>\n",
       "      <th>XM_211529</th>\n",
       "      <td>nan</td>\n",
       "      <td>NaN</td>\n",
       "      <td>NaN</td>\n",
       "      <td>1.801124</td>\n",
       "      <td>4.319905</td>\n",
       "      <td>NaN</td>\n",
       "    </tr>\n",
       "    <tr>\n",
       "      <th>XM_372143</th>\n",
       "      <td>nan</td>\n",
       "      <td>NaN</td>\n",
       "      <td>NaN</td>\n",
       "      <td>3.019991</td>\n",
       "      <td>0.637618</td>\n",
       "      <td>NaN</td>\n",
       "    </tr>\n",
       "    <tr>\n",
       "      <th>XM_379250</th>\n",
       "      <td>nan</td>\n",
       "      <td>NaN</td>\n",
       "      <td>NaN</td>\n",
       "      <td>3.057951</td>\n",
       "      <td>2.103816</td>\n",
       "      <td>NaN</td>\n",
       "    </tr>\n",
       "    <tr>\n",
       "      <th>AFFX-HUMRGE/M10098_5_at</th>\n",
       "      <td>nan</td>\n",
       "      <td>NaN</td>\n",
       "      <td>NaN</td>\n",
       "      <td>0.350925</td>\n",
       "      <td>1.707905</td>\n",
       "      <td>-2.849608</td>\n",
       "    </tr>\n",
       "    <tr>\n",
       "      <th>XM_374065</th>\n",
       "      <td>nan</td>\n",
       "      <td>NaN</td>\n",
       "      <td>NaN</td>\n",
       "      <td>0.486665</td>\n",
       "      <td>2.491259</td>\n",
       "      <td>-2.054800</td>\n",
       "    </tr>\n",
       "    <tr>\n",
       "      <th>XM_379694</th>\n",
       "      <td>nan</td>\n",
       "      <td>NaN</td>\n",
       "      <td>NaN</td>\n",
       "      <td>1.999065</td>\n",
       "      <td>3.797649</td>\n",
       "      <td>NaN</td>\n",
       "    </tr>\n",
       "    <tr>\n",
       "      <th>XM_371848</th>\n",
       "      <td>nan</td>\n",
       "      <td>NaN</td>\n",
       "      <td>NaN</td>\n",
       "      <td>1.970303</td>\n",
       "      <td>2.601228</td>\n",
       "      <td>NaN</td>\n",
       "    </tr>\n",
       "    <tr>\n",
       "      <th>XR_000223</th>\n",
       "      <td>nan</td>\n",
       "      <td>NaN</td>\n",
       "      <td>NaN</td>\n",
       "      <td>2.038178</td>\n",
       "      <td>4.934189</td>\n",
       "      <td>NaN</td>\n",
       "    </tr>\n",
       "    <tr>\n",
       "      <th>XM_499128</th>\n",
       "      <td>nan</td>\n",
       "      <td>NaN</td>\n",
       "      <td>NaN</td>\n",
       "      <td>2.022438</td>\n",
       "      <td>1.219488</td>\n",
       "      <td>NaN</td>\n",
       "    </tr>\n",
       "    <tr>\n",
       "      <th>XM_372719</th>\n",
       "      <td>nan</td>\n",
       "      <td>NaN</td>\n",
       "      <td>NaN</td>\n",
       "      <td>0.349097</td>\n",
       "      <td>2.016183</td>\n",
       "      <td>-2.864532</td>\n",
       "    </tr>\n",
       "    <tr>\n",
       "      <th>NM_016572</th>\n",
       "      <td>nan</td>\n",
       "      <td>NaN</td>\n",
       "      <td>NaN</td>\n",
       "      <td>2.102908</td>\n",
       "      <td>4.611046</td>\n",
       "      <td>NaN</td>\n",
       "    </tr>\n",
       "    <tr>\n",
       "      <th>XM_379274</th>\n",
       "      <td>nan</td>\n",
       "      <td>NaN</td>\n",
       "      <td>NaN</td>\n",
       "      <td>2.172858</td>\n",
       "      <td>1.939343</td>\n",
       "      <td>NaN</td>\n",
       "    </tr>\n",
       "    <tr>\n",
       "      <th>XM_114303</th>\n",
       "      <td>nan</td>\n",
       "      <td>NaN</td>\n",
       "      <td>NaN</td>\n",
       "      <td>0.446474</td>\n",
       "      <td>2.590323</td>\n",
       "      <td>-2.239770</td>\n",
       "    </tr>\n",
       "    <tr>\n",
       "      <th>XM_496301</th>\n",
       "      <td>nan</td>\n",
       "      <td>NaN</td>\n",
       "      <td>NaN</td>\n",
       "      <td>0.374709</td>\n",
       "      <td>3.399167</td>\n",
       "      <td>-2.668740</td>\n",
       "    </tr>\n",
       "  </tbody>\n",
       "</table>\n",
       "<p>1597 rows × 6 columns</p>\n",
       "</div>"
      ],
      "text/plain": [
       "                          Geneid Gene symbol  \\\n",
       "NM_130786                    1.0        A1BG   \n",
       "NM_015665                 8086.0        AAAS   \n",
       "NM_001087                   14.0        AAMP   \n",
       "NM_012089                23456.0      ABCB10   \n",
       "NM_014945                22885.0      ABLIM3   \n",
       "NM_013375                29777.0        ABT1   \n",
       "NM_004300                   52.0        ACP1   \n",
       "NM_177554                   52.0        ACP1   \n",
       "NM_007099                   52.0        ACP1   \n",
       "NM_203372                 2181.0       ACSL3   \n",
       "NM_004457                 2181.0       ACSL3   \n",
       "NM_005736                10121.0      ACTR1A   \n",
       "NM_000022                  100.0         ADA   \n",
       "NM_003183                 6868.0      ADAM17   \n",
       "NM_015999                51094.0     ADIPOR1   \n",
       "NM_000644                  178.0         AGL   \n",
       "NM_000643                  178.0         AGL   \n",
       "NM_000646                  178.0         AGL   \n",
       "NM_000028                  178.0         AGL   \n",
       "NM_000642                  178.0         AGL   \n",
       "NM_000645                  178.0         AGL   \n",
       "NM_003659                 8540.0        AGPS   \n",
       "NM_006408                10551.0        AGR2   \n",
       "NM_015446                25909.0      AHCTF1   \n",
       "NM_001621                  196.0         AHR   \n",
       "NM_000476                  203.0         AK1   \n",
       "NM_013411                  204.0         AK2   \n",
       "NM_001625                  204.0         AK2   \n",
       "NM_016248                11215.0      AKAP11   \n",
       "NM_020299                57016.0     AKR1B10   \n",
       "...                          ...         ...   \n",
       "NM_007233                    nan         NaN   \n",
       "NM_203353                    nan         NaN   \n",
       "XM_495965                    nan         NaN   \n",
       "XM_376247                    nan         NaN   \n",
       "XM_499012                    nan         NaN   \n",
       "XM_531426                    nan         NaN   \n",
       "XM_497679                    nan         NaN   \n",
       "XM_379736                    nan         NaN   \n",
       "NM_178225                    nan         NaN   \n",
       "NM_001002256                 nan         NaN   \n",
       "XM_370878                    nan         NaN   \n",
       "XM_374765                    nan         NaN   \n",
       "NM_004652                    nan         NaN   \n",
       "NM_021906                    nan         NaN   \n",
       "NM_145323                    nan         NaN   \n",
       "NM_016496                51257.0         NaN   \n",
       "XM_211529                    nan         NaN   \n",
       "XM_372143                    nan         NaN   \n",
       "XM_379250                    nan         NaN   \n",
       "AFFX-HUMRGE/M10098_5_at      nan         NaN   \n",
       "XM_374065                    nan         NaN   \n",
       "XM_379694                    nan         NaN   \n",
       "XM_371848                    nan         NaN   \n",
       "XR_000223                    nan         NaN   \n",
       "XM_499128                    nan         NaN   \n",
       "XM_372719                    nan         NaN   \n",
       "NM_016572                    nan         NaN   \n",
       "XM_379274                    nan         NaN   \n",
       "XM_114303                    nan         NaN   \n",
       "XM_496301                    nan         NaN   \n",
       "\n",
       "                                                                 Gene name  \\\n",
       "NM_130786                                           alpha-1-B glycoprotein   \n",
       "NM_015665                achalasia, adrenocortical insufficiency, alacr...   \n",
       "NM_001087                         angio-associated, migratory cell protein   \n",
       "NM_012089                ATP-binding cassette, sub-family B (MDR/TAP), ...   \n",
       "NM_014945                       actin binding LIM protein family, member 3   \n",
       "NM_013375                               activator of basal transcription 1   \n",
       "NM_004300                                      acid phosphatase 1, soluble   \n",
       "NM_177554                                      acid phosphatase 1, soluble   \n",
       "NM_007099                                      acid phosphatase 1, soluble   \n",
       "NM_203372                   acyl-CoA synthetase long-chain family member 3   \n",
       "NM_004457                   acyl-CoA synthetase long-chain family member 3   \n",
       "NM_005736                ARP1 actin-related protein 1 homolog A, centra...   \n",
       "NM_000022                                              adenosine deaminase   \n",
       "NM_003183                ADAM metallopeptidase domain 17 (tumor necrosi...   \n",
       "NM_015999                                           adiponectin receptor 1   \n",
       "NM_000644                amylo-1, 6-glucosidase, 4-alpha-glucanotransfe...   \n",
       "NM_000643                amylo-1, 6-glucosidase, 4-alpha-glucanotransfe...   \n",
       "NM_000646                amylo-1, 6-glucosidase, 4-alpha-glucanotransfe...   \n",
       "NM_000028                amylo-1, 6-glucosidase, 4-alpha-glucanotransfe...   \n",
       "NM_000642                amylo-1, 6-glucosidase, 4-alpha-glucanotransfe...   \n",
       "NM_000645                amylo-1, 6-glucosidase, 4-alpha-glucanotransfe...   \n",
       "NM_003659                                alkylglycerone phosphate synthase   \n",
       "NM_006408                     anterior gradient 2 homolog (Xenopus laevis)   \n",
       "NM_015446                        AT hook containing transcription factor 1   \n",
       "NM_001621                                        aryl hydrocarbon receptor   \n",
       "NM_000476                                               adenylate kinase 1   \n",
       "NM_013411                                               adenylate kinase 2   \n",
       "NM_001625                                               adenylate kinase 2   \n",
       "NM_016248                                A kinase (PRKA) anchor protein 11   \n",
       "NM_020299                aldo-keto reductase family 1, member B10 (aldo...   \n",
       "...                                                                    ...   \n",
       "NM_007233                                                              NaN   \n",
       "NM_203353                                                              NaN   \n",
       "XM_495965                                                              NaN   \n",
       "XM_376247                                                              NaN   \n",
       "XM_499012                                                              NaN   \n",
       "XM_531426                                                              NaN   \n",
       "XM_497679                                                              NaN   \n",
       "XM_379736                                                              NaN   \n",
       "NM_178225                                                              NaN   \n",
       "NM_001002256                                                           NaN   \n",
       "XM_370878                                                              NaN   \n",
       "XM_374765                                                              NaN   \n",
       "NM_004652                                                              NaN   \n",
       "NM_021906                                                              NaN   \n",
       "NM_145323                                                              NaN   \n",
       "NM_016496                        membrane-associated ring finger (C3HC4) 2   \n",
       "XM_211529                                                              NaN   \n",
       "XM_372143                                                              NaN   \n",
       "XM_379250                                                              NaN   \n",
       "AFFX-HUMRGE/M10098_5_at                                                NaN   \n",
       "XM_374065                                                              NaN   \n",
       "XM_379694                                                              NaN   \n",
       "XM_371848                                                              NaN   \n",
       "XR_000223                                                              NaN   \n",
       "XM_499128                                                              NaN   \n",
       "XM_372719                                                              NaN   \n",
       "NM_016572                                                              NaN   \n",
       "XM_379274                                                              NaN   \n",
       "XM_114303                                                              NaN   \n",
       "XM_496301                                                              NaN   \n",
       "\n",
       "                         Fold Change  q-value (%)  Negative Fold Change  \n",
       "NM_130786                   2.176788     1.998233                   NaN  \n",
       "NM_015665                   1.952652     3.753678                   NaN  \n",
       "NM_001087                   2.808783     0.637618                   NaN  \n",
       "NM_012089                   0.225564     1.707905             -4.433328  \n",
       "NM_014945                   2.205244     4.611046                   NaN  \n",
       "NM_013375                   3.284837     0.637618                   NaN  \n",
       "NM_004300                   2.790544     0.637618                   NaN  \n",
       "NM_177554                   2.288103     1.219488                   NaN  \n",
       "NM_007099                   2.288103     1.219488                   NaN  \n",
       "NM_203372                   0.254533     1.707905             -3.928758  \n",
       "NM_004457                   0.254533     1.707905             -3.928758  \n",
       "NM_005736                   2.088440     2.473819                   NaN  \n",
       "NM_000022                   3.166759     1.021824                   NaN  \n",
       "NM_003183                   0.416173     2.491259             -2.402845  \n",
       "NM_015999                   1.894437     2.473819                   NaN  \n",
       "NM_000644                   0.346660     3.399167             -2.884670  \n",
       "NM_000643                   0.346660     3.399167             -2.884670  \n",
       "NM_000646                   0.346660     3.399167             -2.884670  \n",
       "NM_000028                   0.346660     3.399167             -2.884670  \n",
       "NM_000642                   0.346660     3.399167             -2.884670  \n",
       "NM_000645                   0.346660     3.399167             -2.884670  \n",
       "NM_003659                   2.216233     1.939343                   NaN  \n",
       "NM_006408                   0.372764     1.707905             -2.682662  \n",
       "NM_015446                   0.240616     1.707905             -4.155992  \n",
       "NM_001621                   0.298388     1.707905             -3.351336  \n",
       "NM_000476                   2.667675     0.637618                   NaN  \n",
       "NM_013411                   2.246527     1.561308                   NaN  \n",
       "NM_001625                   3.030583     0.885581                   NaN  \n",
       "NM_016248                   0.446486     4.319905             -2.239711  \n",
       "NM_020299                   3.429254     4.319905                   NaN  \n",
       "...                              ...          ...                   ...  \n",
       "NM_007233                   2.695370     0.637618                   NaN  \n",
       "NM_203353                   2.521016     0.637618                   NaN  \n",
       "XM_495965                   2.227140     1.300108                   NaN  \n",
       "XM_376247                   2.330743     3.950857                   NaN  \n",
       "XM_499012                   1.963309     2.601228                   NaN  \n",
       "XM_531426                   0.432487     3.235147             -2.312206  \n",
       "XM_497679                   1.888995     3.753678                   NaN  \n",
       "XM_379736                   1.999065     3.797649                   NaN  \n",
       "NM_178225                   1.754399     3.797649                   NaN  \n",
       "NM_001002256                1.839806     3.797649                   NaN  \n",
       "XM_370878                   0.546714     4.611046             -1.829111  \n",
       "XM_374765                   0.371331     1.998233             -2.693017  \n",
       "NM_004652                   0.441336     3.753678             -2.265846  \n",
       "NM_021906                   0.441336     3.753678             -2.265846  \n",
       "NM_145323                   0.266313     2.016183             -3.754986  \n",
       "NM_016496                   2.220592     4.319905                   NaN  \n",
       "XM_211529                   1.801124     4.319905                   NaN  \n",
       "XM_372143                   3.019991     0.637618                   NaN  \n",
       "XM_379250                   3.057951     2.103816                   NaN  \n",
       "AFFX-HUMRGE/M10098_5_at     0.350925     1.707905             -2.849608  \n",
       "XM_374065                   0.486665     2.491259             -2.054800  \n",
       "XM_379694                   1.999065     3.797649                   NaN  \n",
       "XM_371848                   1.970303     2.601228                   NaN  \n",
       "XR_000223                   2.038178     4.934189                   NaN  \n",
       "XM_499128                   2.022438     1.219488                   NaN  \n",
       "XM_372719                   0.349097     2.016183             -2.864532  \n",
       "NM_016572                   2.102908     4.611046                   NaN  \n",
       "XM_379274                   2.172858     1.939343                   NaN  \n",
       "XM_114303                   0.446474     2.590323             -2.239770  \n",
       "XM_496301                   0.374709     3.399167             -2.668740  \n",
       "\n",
       "[1597 rows x 6 columns]"
      ]
     },
     "execution_count": 144,
     "metadata": {},
     "output_type": "execute_result"
    }
   ],
   "source": [
    "strict_frame = genelist.ix[mask,:]\n",
    "strict_frame"
   ]
  },
  {
   "cell_type": "code",
   "execution_count": 145,
   "metadata": {
    "collapsed": false
   },
   "outputs": [
    {
     "data": {
      "text/plain": [
       "(1597, 6)"
      ]
     },
     "execution_count": 145,
     "metadata": {},
     "output_type": "execute_result"
    }
   ],
   "source": [
    "strict_frame.shape"
   ]
  },
  {
   "cell_type": "markdown",
   "metadata": {},
   "source": [
    "Just for fun I want to pull out the rows of the dataframe where the gene symbol is 'ACP1'.  You know, when your lab members ask \"What is the fold-change for this gene?\" which is their favorite gene and they for whatever reason don't know how to use the find fucntion in excel.  Your turn, pull out the rows of the dataframe where the gene symbol is 'ACP1':"
   ]
  },
  {
   "cell_type": "code",
   "execution_count": null,
   "metadata": {
    "collapsed": true
   },
   "outputs": [],
   "source": []
  },
  {
   "cell_type": "markdown",
   "metadata": {},
   "source": [
    "### Tools to filter our NaN's"
   ]
  },
  {
   "cell_type": "markdown",
   "metadata": {},
   "source": [
    "Things that aren't useful: Gene Symbols that are NaN.  So another way to make our dataset smaller is to filter out those NaNs."
   ]
  },
  {
   "cell_type": "code",
   "execution_count": null,
   "metadata": {
    "collapsed": false
   },
   "outputs": [],
   "source": [
    "strict_frame.tail()"
   ]
  },
  {
   "cell_type": "markdown",
   "metadata": {},
   "source": [
    "This is actually a tool to identify NaNs.  We are going to use it to specifically identify the location of NaN's in a column.  However, it can take an entire dataframe as an arguement."
   ]
  },
  {
   "cell_type": "code",
   "execution_count": null,
   "metadata": {
    "collapsed": false
   },
   "outputs": [],
   "source": [
    "pd.isnull(strict_frame['Gene symbol']).head()"
   ]
  },
  {
   "cell_type": "markdown",
   "metadata": {},
   "source": [
    "We want to return a dataframe where rows that have Gene symbol as NaN are no longer there.  We can use Boolean indexing to do this.  What happens when we run this code:\n",
    "```python\n",
    "strict_frame.ix [pd.isnull(strict_frame['Gene symbol']),:]\n",
    "```"
   ]
  },
  {
   "cell_type": "code",
   "execution_count": null,
   "metadata": {
    "collapsed": false
   },
   "outputs": [],
   "source": [
    "strict_frame.ix [pd.isnull(strict_frame['Gene symbol']),:].head()"
   ]
  },
  {
   "cell_type": "markdown",
   "metadata": {},
   "source": [
    "You should notice that when you index with the Boolean mask, you return all of the rows where Gene Symbol has a NaN.  Which is actually the exact opposite of what we want to do, however, there's a nifty way of taking the inverse. "
   ]
  },
  {
   "cell_type": "code",
   "execution_count": null,
   "metadata": {
    "collapsed": false
   },
   "outputs": [],
   "source": [
    "stricter = strict_frame.ix[~pd.isnull(strict_frame['Gene symbol']),:]\n",
    "stricter.head()"
   ]
  },
  {
   "cell_type": "code",
   "execution_count": null,
   "metadata": {
    "collapsed": false
   },
   "outputs": [],
   "source": [
    "stricter.shape\n"
   ]
  },
  {
   "cell_type": "markdown",
   "metadata": {},
   "source": [
    "### Filtering by Fold-change"
   ]
  },
  {
   "cell_type": "markdown",
   "metadata": {},
   "source": [
    "Not much reduction.  Let's try one more thing.  Let's figure out which genes have a 2 fold change in up or down direction.  Looking at our data, we notice that there are only positive numbers in the fold-change column.  If we look at our distribution plot for fold-change, we notice what about the distribution?:\n",
    "1. our positive fold-changes are above:\n",
    "2. our negative fold-changes are below:"
   ]
  },
  {
   "cell_type": "code",
   "execution_count": null,
   "metadata": {
    "collapsed": true
   },
   "outputs": [],
   "source": [
    "up = stricter['Fold Change'] > 1\n",
    "down = sticter['Fold Change'] < 0.5"
   ]
  },
  {
   "cell_type": "markdown",
   "metadata": {},
   "source": [
    "Create a mask combining the above code and use it to index your data.  Save your answer as a variable named \"final\" to be used for future steps.  Hint: This will require you to google or dig through 10 min to pandas and figure out how and/or statements work in pandas."
   ]
  },
  {
   "cell_type": "code",
   "execution_count": null,
   "metadata": {
    "collapsed": true
   },
   "outputs": [],
   "source": []
  },
  {
   "cell_type": "markdown",
   "metadata": {},
   "source": [
    "Did this reduce the number of genes? How would we check?"
   ]
  },
  {
   "cell_type": "code",
   "execution_count": null,
   "metadata": {
    "collapsed": true
   },
   "outputs": [],
   "source": []
  },
  {
   "cell_type": "markdown",
   "metadata": {},
   "source": [
    "## Write your filtered data to a file"
   ]
  },
  {
   "cell_type": "code",
   "execution_count": null,
   "metadata": {
    "collapsed": true
   },
   "outputs": [],
   "source": [
    "final.to_excel()"
   ]
  },
  {
   "cell_type": "code",
   "execution_count": null,
   "metadata": {
    "collapsed": true
   },
   "outputs": [],
   "source": []
  },
  {
   "cell_type": "markdown",
   "metadata": {},
   "source": [
    "## For next time: We will be figuring out what to do with all of those duplicate values for gene symbols, and we will combine this current dataframe with perhaps a dictionary or other dataframe and plotting that data."
   ]
  },
  {
   "cell_type": "code",
   "execution_count": null,
   "metadata": {
    "collapsed": true
   },
   "outputs": [],
   "source": []
  },
  {
   "cell_type": "markdown",
   "metadata": {},
   "source": [
    "We are going to use our original unfiltered 'genelist' for this part so that I can illustrate and/or statements in pandas.  You do not necessarily have to do this step this way.  First we want to create a mask that filters for rows that are below 5% q-value and above 2-fold.  We are neglecting the numbers that are downregulated 2-fold for the moment because that data is ugly and I will make you all help me fix it later."
   ]
  }
 ],
 "metadata": {
  "anaconda-cloud": {},
  "kernelspec": {
   "display_name": "Python [Root]",
   "language": "python",
   "name": "Python [Root]"
  },
  "language_info": {
   "codemirror_mode": {
    "name": "ipython",
    "version": 3
   },
   "file_extension": ".py",
   "mimetype": "text/x-python",
   "name": "python",
   "nbconvert_exporter": "python",
   "pygments_lexer": "ipython3",
   "version": "3.5.2"
  }
 },
 "nbformat": 4,
 "nbformat_minor": 0
}
