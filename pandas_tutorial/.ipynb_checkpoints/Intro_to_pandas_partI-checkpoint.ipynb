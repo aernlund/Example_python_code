{
 "cells": [
  {
   "cell_type": "markdown",
   "metadata": {},
   "source": [
    "# Intro to Pandas and Matplotlib Part I"
   ]
  },
  {
   "cell_type": "markdown",
   "metadata": {},
   "source": [
    "## Quiz 4 Answers"
   ]
  },
  {
   "cell_type": "markdown",
   "metadata": {},
   "source": [
    "Question 1"
   ]
  },
  {
   "cell_type": "code",
   "execution_count": null,
   "metadata": {},
   "outputs": [],
   "source": [
    "x = 'abc def   ghi\\njkl\\n'\n",
    "print(x.strip().split())"
   ]
  },
  {
   "cell_type": "markdown",
   "metadata": {},
   "source": [
    "Question 2"
   ]
  },
  {
   "cell_type": "code",
   "execution_count": null,
   "metadata": {},
   "outputs": [],
   "source": [
    "def compute(n):\n",
    "    a, b = 0, 1\n",
    "    for _ in range(n):\n",
    "        a, b = b, a + b\n",
    "    return b-a\n",
    "\n",
    "\n",
    "print(compute(6))"
   ]
  },
  {
   "cell_type": "markdown",
   "metadata": {},
   "source": [
    "Question 3"
   ]
  },
  {
   "cell_type": "markdown",
   "metadata": {},
   "source": [
    "num_list.txt\n",
    "\n",
    "5,7,3\n",
    "\n",
    "2,4,2\n",
    "\n",
    "4,8,6"
   ]
  },
  {
   "cell_type": "markdown",
   "metadata": {},
   "source": [
    "```python\n",
    "frh = open('num_list.txt', 'r')\n",
    "fwh = open('result.txt', 'w')\n",
    "result = 0\n",
    "for line in frh:\n",
    "    n = line.strip().split(',')\n",
    "    result += (int(n[0]) + int(n[1])) / int(n[2])\n",
    "```"
   ]
  },
  {
   "cell_type": "markdown",
   "metadata": {},
   "source": [
    "Answer: 9.0"
   ]
  },
  {
   "cell_type": "markdown",
   "metadata": {},
   "source": [
    "## Creating objects in Pandas"
   ]
  },
  {
   "cell_type": "markdown",
   "metadata": {},
   "source": [
    "Pandas is  a great library for manipulating data that we are used to dealing with in biology a.k.a the excel spreadsheet.  Pandas can also create basic plots utilizing the power of the matplotlib API which we will also cover in more detail."
   ]
  },
  {
   "cell_type": "markdown",
   "metadata": {},
   "source": [
    "For more info (and to see where I'm pulling material for this tutorial) check out [10 min to Pandas](http://pandas.pydata.org/pandas-docs/stable/10min.html)"
   ]
  },
  {
   "cell_type": "code",
   "execution_count": null,
   "metadata": {
    "collapsed": true
   },
   "outputs": [],
   "source": [
    "% matplotlib inline\n",
    "import pandas as pd\n",
    "import matplotlib.pyplot as plt\n",
    "import pprint"
   ]
  },
  {
   "cell_type": "markdown",
   "metadata": {},
   "source": [
    "There are two main object types in Pandas, 1) the series and 2) the dataframe.  A series looks a lot like a list and can accept mixed data types.  It can also be indexed like a list.  And like a list, series objects are mutable and therefore item assingment can take place."
   ]
  },
  {
   "cell_type": "code",
   "execution_count": null,
   "metadata": {},
   "outputs": [],
   "source": [
    "s = pd.Series([1,3,5,'a',6,8])\n",
    "print(s)\n",
    "#indexing looks is similar to a list\n",
    "print(s[0])\n"
   ]
  },
  {
   "cell_type": "code",
   "execution_count": null,
   "metadata": {},
   "outputs": [],
   "source": [
    "#item reassignment\n",
    "s[0] = 2\n",
    "print(s)"
   ]
  },
  {
   "cell_type": "markdown",
   "metadata": {},
   "source": [
    "To get a list of series methods, you can use tab completetion in the notebook or dir().  Try this below."
   ]
  },
  {
   "cell_type": "code",
   "execution_count": null,
   "metadata": {},
   "outputs": [],
   "source": [
    "dir(s)"
   ]
  },
  {
   "cell_type": "markdown",
   "metadata": {},
   "source": [
    "More exciting than the series object and more useful to us, is the dataframe.  Dataframes have rows and columns and dataframes can be created in multiple ways. Also, notice that in the notebook, where code is run interactively, you do not have to use print statements to return output.  However, in pycharm or when running code from scripts, you must still use the print statement."
   ]
  },
  {
   "cell_type": "code",
   "execution_count": null,
   "metadata": {},
   "outputs": [],
   "source": [
    "df1 = {'a':[1, 2], 'b': (3, 4), 'c': ['cat', 'dog']}\n",
    "pd.DataFrame(df1)"
   ]
  },
  {
   "cell_type": "code",
   "execution_count": null,
   "metadata": {},
   "outputs": [],
   "source": [
    "df2 = [['a',1,2], ['b', 3,4], ['c', 'cat', 'dog']]\n",
    "pd.DataFrame(df2)\n"
   ]
  },
  {
   "cell_type": "code",
   "execution_count": null,
   "metadata": {},
   "outputs": [],
   "source": [
    "df = [{'a':1, 'b':4}, {'a':2, 'c':3}]\n",
    "pd.DataFrame(df)"
   ]
  },
  {
   "cell_type": "markdown",
   "metadata": {},
   "source": [
    "More important to our uses, we can give Pandas an excel spreadsheet or text file and then play with that data.  And the file i/o is way easier than base python.  The data we are playing with today is compliments of Larsson et al., 2007.  In this study, the authors examined differential expression upon overexpression of a protein in cell culture.  To see what a day in the life of dealing with other people's data is like, we will now ask some questions of this dataset.  "
   ]
  },
  {
   "cell_type": "markdown",
   "metadata": {},
   "source": [
    "Notice the last column, has empty space or missing data.  Pandas will automatically deal with that."
   ]
  },
  {
   "cell_type": "markdown",
   "metadata": {},
   "source": [
    "![alt text](Screen Shot 2016-09-28 at 9.24.25 AM.png)"
   ]
  },
  {
   "cell_type": "code",
   "execution_count": null,
   "metadata": {},
   "outputs": [],
   "source": [
    "#this reads the data into a dataframe object, using a tab separated character.  The index_col argument is optional\n",
    "# and sets the first column in the data as rownames which is similar to how R works.\n",
    "genelist = pd.read_table('Supplement_table02.txt', sep='\\t', index_col=0)\n",
    "# genelist_excel = pd.read_excel('Supplement_table02.xlsx', index_col=0)"
   ]
  },
  {
   "cell_type": "code",
   "execution_count": null,
   "metadata": {},
   "outputs": [],
   "source": [
    "help(pd.read_table)"
   ]
  },
  {
   "cell_type": "markdown",
   "metadata": {},
   "source": [
    "## Viewing the data"
   ]
  },
  {
   "cell_type": "markdown",
   "metadata": {},
   "source": [
    "Let's view the data frame.  You can see that Pandas filled in missing values with NaN."
   ]
  },
  {
   "cell_type": "code",
   "execution_count": null,
   "metadata": {},
   "outputs": [],
   "source": [
    "genelist"
   ]
  },
  {
   "cell_type": "code",
   "execution_count": null,
   "metadata": {},
   "outputs": [],
   "source": [
    "genelist.head()"
   ]
  },
  {
   "cell_type": "code",
   "execution_count": null,
   "metadata": {},
   "outputs": [],
   "source": [
    "genelist.tail()"
   ]
  },
  {
   "cell_type": "code",
   "execution_count": null,
   "metadata": {},
   "outputs": [],
   "source": [
    "#to get the column names\n",
    "genelist.columns"
   ]
  },
  {
   "cell_type": "code",
   "execution_count": null,
   "metadata": {},
   "outputs": [],
   "source": [
    "# to get the row names\n",
    "genelist.index"
   ]
  },
  {
   "cell_type": "code",
   "execution_count": null,
   "metadata": {},
   "outputs": [],
   "source": [
    "genelist.values"
   ]
  },
  {
   "cell_type": "code",
   "execution_count": null,
   "metadata": {},
   "outputs": [],
   "source": [
    "genelist.shape"
   ]
  },
  {
   "cell_type": "code",
   "execution_count": null,
   "metadata": {},
   "outputs": [],
   "source": [
    "#good for numerical data, especially when you need to plot the data\n",
    "genelist.describe()"
   ]
  },
  {
   "cell_type": "markdown",
   "metadata": {},
   "source": [
    "Notice that the summary table included summary statistics for Geneid which aren't really numerical values but ids for genes.  We will fix this shortly."
   ]
  },
  {
   "cell_type": "markdown",
   "metadata": {},
   "source": [
    "## Indexing the Data"
   ]
  },
  {
   "cell_type": "markdown",
   "metadata": {},
   "source": [
    "First, we want to index the dataframe.  How do we get rows and columns that are interesting?"
   ]
  },
  {
   "cell_type": "markdown",
   "metadata": {},
   "source": [
    "```python\n",
    "Indexing is in this general format:\n",
    "dataframe[column name]\n",
    "dataframe.loc[rows, columns]\n",
    "\n",
    "#one column\n",
    "genelist['Geneid']\n",
    "\n",
    "#multiple columns\n",
    "genelist[['Geneid', 'Gene symbol']]\n",
    "\n",
    "#one row and one column    \n",
    "genelist.loc['NM_130786','Geneid']\n",
    "genelist.loc['NM_130786', 0]\n",
    "genelist.loc[0,0]\n",
    "\n",
    "#all values in one column\n",
    "genelist.loc[:,'Geneid']\n",
    "\n",
    "#all values in one row\n",
    "genelist.loc['NM_130786', :]\n",
    "\n",
    "#all values in multiple columns, put multiple items into list, must be consistent with datatypes in list\n",
    "genelist.loc[:, ['Geneid', 'Gene name']]\n",
    "genelist.loc[:, 0:3]\n",
    "```"
   ]
  },
  {
   "cell_type": "code",
   "execution_count": null,
   "metadata": {},
   "outputs": [],
   "source": [
    "genelist.loc['NM_130786','Geneid']"
   ]
  },
  {
   "cell_type": "markdown",
   "metadata": {},
   "source": [
    "## Indexing exercise"
   ]
  },
  {
   "cell_type": "markdown",
   "metadata": {},
   "source": [
    "Return the last column of the genelist dataframe."
   ]
  },
  {
   "cell_type": "code",
   "execution_count": null,
   "metadata": {},
   "outputs": [],
   "source": [
    "genelist.iloc[:, -1].head()"
   ]
  },
  {
   "cell_type": "markdown",
   "metadata": {},
   "source": [
    "Return NM_148969, NM_181862, XM_496301 rows of the genelist dataframe. Hint: this type of indexing will look similar in syntax to returning multiple columns. "
   ]
  },
  {
   "cell_type": "code",
   "execution_count": null,
   "metadata": {},
   "outputs": [],
   "source": [
    "genelist.loc[['NM_148969', 'NM_181862', 'XM_496301'], :]"
   ]
  },
  {
   "cell_type": "markdown",
   "metadata": {},
   "source": [
    "Return only the gene symbols from the previous question."
   ]
  },
  {
   "cell_type": "code",
   "execution_count": null,
   "metadata": {},
   "outputs": [],
   "source": [
    "genelist.loc[['NM_148969', 'NM_181862', 'XM_496301'], 'Gene symbol']"
   ]
  },
  {
   "cell_type": "markdown",
   "metadata": {},
   "source": [
    "## Reassignment"
   ]
  },
  {
   "cell_type": "code",
   "execution_count": null,
   "metadata": {},
   "outputs": [],
   "source": [
    "genelist['Geneid'].dtype"
   ]
  },
  {
   "cell_type": "code",
   "execution_count": null,
   "metadata": {},
   "outputs": [],
   "source": [
    "genelist['Geneid'].astype('str')"
   ]
  },
  {
   "cell_type": "code",
   "execution_count": null,
   "metadata": {},
   "outputs": [],
   "source": [
    "genelist['Geneid'].dtype"
   ]
  },
  {
   "cell_type": "code",
   "execution_count": null,
   "metadata": {},
   "outputs": [],
   "source": [
    "#reassinging values in a column in place\n",
    "genelist['Geneid'] = genelist['Geneid'].astype('str')"
   ]
  },
  {
   "cell_type": "code",
   "execution_count": null,
   "metadata": {},
   "outputs": [],
   "source": [
    "genelist['Geneid'].dtype"
   ]
  },
  {
   "cell_type": "code",
   "execution_count": null,
   "metadata": {},
   "outputs": [],
   "source": [
    "genelist.describe()"
   ]
  },
  {
   "cell_type": "markdown",
   "metadata": {},
   "source": [
    "## Basic plots of the data"
   ]
  },
  {
   "cell_type": "markdown",
   "metadata": {},
   "source": [
    "I would like to work only with the numerical data see the distribution of values for specific columns. "
   ]
  },
  {
   "cell_type": "code",
   "execution_count": null,
   "metadata": {},
   "outputs": [],
   "source": [
    "ax = genelist['Fold Change'].hist(bins=50)\n",
    "ax.set_xlabel('Fold Change')\n",
    "ax.set_ylabel('Frequency')"
   ]
  },
  {
   "cell_type": "markdown",
   "metadata": {},
   "source": [
    "We can see that there are a lot of values around zero and no negative values.  Meaning if we want to at some point look at negative fold-changes the authors have wierdly put those in the adjacent column.  Also, the authors titled this figure, \"Significant translational changes\", without defining significant.  So, lets try to see if they used some sort of FDR %threshold."
   ]
  },
  {
   "cell_type": "code",
   "execution_count": null,
   "metadata": {},
   "outputs": [],
   "source": [
    "ax2 = genelist['q-value (%)'].hist(bins=50)\n",
    "ax2.set_xlabel('q-Value (%)')\n",
    "ax2.set_ylabel('Frequency')"
   ]
  },
  {
   "cell_type": "markdown",
   "metadata": {},
   "source": [
    "## Filtering"
   ]
  },
  {
   "cell_type": "markdown",
   "metadata": {},
   "source": [
    "We see now that there are some weird things in the data.  There are genes that lack names, which are not useful for downstream pathway analysis and for reasons unknown, the authors provided downregulated genes as negative values or fractions of one.  So we are going to try and fix some of these things.  We also have 3,085 probe values to work with, and if you've ever tried to validate 3000 target genes at the bench, I'm feeling bad for you.  So we are going to try and reduce our targets trying several strategies. "
   ]
  },
  {
   "cell_type": "markdown",
   "metadata": {},
   "source": [
    "## Filtering the data for smaller gene-list using conditionals in Pandas."
   ]
  },
  {
   "cell_type": "markdown",
   "metadata": {},
   "source": [
    "Some ways to reduce the gene-list:  \n",
    "1. Filter out genes without gene symbols\n",
    "2. Make the q-value cut-off more strict\n",
    "3. Employ a fold-change cut-off"
   ]
  },
  {
   "cell_type": "markdown",
   "metadata": {},
   "source": [
    "### Filter by q-value"
   ]
  },
  {
   "cell_type": "markdown",
   "metadata": {},
   "source": [
    "Pull out rows where q-value is < 5% by using a Boolean mask.  Here is what the mask looks like:"
   ]
  },
  {
   "cell_type": "code",
   "execution_count": null,
   "metadata": {},
   "outputs": [],
   "source": [
    "mask = genelist['q-value (%)']<5\n",
    "mask.head()"
   ]
  },
  {
   "cell_type": "markdown",
   "metadata": {},
   "source": [
    "To index into the dataframe, plug the mask into the rows index:\n",
    "```python\n",
    "dataframe.loc[Boolean mask, columns]\n",
    "```"
   ]
  },
  {
   "cell_type": "code",
   "execution_count": null,
   "metadata": {},
   "outputs": [],
   "source": [
    "strict_frame = genelist.loc[mask,:]\n",
    "strict_frame"
   ]
  },
  {
   "cell_type": "code",
   "execution_count": null,
   "metadata": {},
   "outputs": [],
   "source": [
    "strict_frame.shape"
   ]
  },
  {
   "cell_type": "markdown",
   "metadata": {},
   "source": [
    "Just for fun I want to pull out the rows of the dataframe where the gene symbol is something specific like my labmates' 3 favorite genes.  You know, when your lab members ask \"What is the fold-change for this gene?\" and they for whatever reason don't know how to use the find fucntion in excel.  "
   ]
  },
  {
   "cell_type": "code",
   "execution_count": null,
   "metadata": {},
   "outputs": [],
   "source": [
    "sublist = ['ACP1', 'SOMEGENE', 'ADA']\n",
    "strict_frame['Gene symbol'].isin(sublist).head()"
   ]
  },
  {
   "cell_type": "code",
   "execution_count": null,
   "metadata": {},
   "outputs": [],
   "source": [
    "#save the mask to a variable and use it to index your matrix\n",
    "newmask = strict_frame['Gene symbol'].isin(sublist)\n",
    "strict_frame.loc[newmask,:]\n"
   ]
  },
  {
   "cell_type": "markdown",
   "metadata": {},
   "source": [
    "## Tools to filter our NaN's"
   ]
  },
  {
   "cell_type": "markdown",
   "metadata": {},
   "source": [
    "Things that aren't useful: Gene Symbols that are NaN.  So another way to make our dataset smaller is to filter out those NaNs."
   ]
  },
  {
   "cell_type": "code",
   "execution_count": null,
   "metadata": {},
   "outputs": [],
   "source": [
    "strict_frame.tail()"
   ]
  },
  {
   "cell_type": "markdown",
   "metadata": {},
   "source": [
    "This is actually a tool to identify NaNs.  We are going to use it to specifically identify the location of NaN's in a column.  However, it can take an entire dataframe as an arguement."
   ]
  },
  {
   "cell_type": "code",
   "execution_count": null,
   "metadata": {},
   "outputs": [],
   "source": [
    "pd.isnull(strict_frame['Gene symbol']).head()"
   ]
  },
  {
   "cell_type": "markdown",
   "metadata": {},
   "source": [
    "We want to return a dataframe where rows that have Gene symbol as NaN are no longer there.  We can use Boolean indexing to do this.  What happens when we run this code:\n",
    "```python\n",
    "strict_frame.loc [pd.isnull(strict_frame['Gene symbol']),:]\n",
    "```"
   ]
  },
  {
   "cell_type": "code",
   "execution_count": null,
   "metadata": {},
   "outputs": [],
   "source": [
    "strict_frame.loc [pd.isnull(strict_frame['Gene symbol']),:].head()"
   ]
  },
  {
   "cell_type": "markdown",
   "metadata": {},
   "source": [
    "You should notice that when you index with the Boolean mask, you return all of the rows where Gene Symbol has a NaN.  Which is actually the exact opposite of what we want to do, however, there's a nifty way of taking the inverse. "
   ]
  },
  {
   "cell_type": "code",
   "execution_count": null,
   "metadata": {},
   "outputs": [],
   "source": [
    "stricter = strict_frame.loc[~pd.isnull(strict_frame['Gene symbol']),:]\n",
    "stricter.head()"
   ]
  },
  {
   "cell_type": "code",
   "execution_count": null,
   "metadata": {},
   "outputs": [],
   "source": [
    "stricter.shape\n"
   ]
  },
  {
   "cell_type": "markdown",
   "metadata": {},
   "source": [
    "## Filtering by Fold-change - Using And/Or Conditional Statement"
   ]
  },
  {
   "cell_type": "markdown",
   "metadata": {},
   "source": [
    "Not much reduction.  Let's try one more thing.  Let's figure out which genes have a 2 fold change in up or down direction.  Looking at our data, we notice that there are only positive numbers in the fold-change column.  If we look at our distribution plot for fold-change, we notice what about the distribution?:\n",
    "1. our positive fold-changes are above:\n",
    "2. our negative fold-changes are below:"
   ]
  },
  {
   "cell_type": "markdown",
   "metadata": {},
   "source": [
    "### Exercise"
   ]
  },
  {
   "cell_type": "markdown",
   "metadata": {},
   "source": [
    "Create a mask for upregulated genes and a separate mask for downregulated genes.  "
   ]
  },
  {
   "cell_type": "code",
   "execution_count": null,
   "metadata": {},
   "outputs": [],
   "source": [
    "strict_frame.columns"
   ]
  },
  {
   "cell_type": "code",
   "execution_count": null,
   "metadata": {},
   "outputs": [],
   "source": [
    "up = strict_frame['Fold Change'] > 2\n",
    "down = strict_frame['Fold Change']<0.5"
   ]
  },
  {
   "cell_type": "code",
   "execution_count": null,
   "metadata": {},
   "outputs": [],
   "source": [
    "#or statement\n",
    "strict_frame.loc[(up) | (down),:].head()"
   ]
  },
  {
   "cell_type": "markdown",
   "metadata": {},
   "source": [
    "### Exercise"
   ]
  },
  {
   "cell_type": "markdown",
   "metadata": {},
   "source": [
    "How can we create a mask that filters for q-value and fold change? Create one more mask that selects for rows that are below 5% - see above and use the genelist dataframe object to filter for q-value and fold change in one line of code.  This will require that you google how to filter rows with AND condition in pandas. "
   ]
  },
  {
   "cell_type": "code",
   "execution_count": null,
   "metadata": {
    "collapsed": true
   },
   "outputs": [],
   "source": [
    "qvalue_mask = genelist['q-value (%)']<5"
   ]
  },
  {
   "cell_type": "code",
   "execution_count": null,
   "metadata": {},
   "outputs": [],
   "source": [
    "final_frame = strict_frame.loc[(up) | (down) & (genelist['q-value (%)']<5),:]"
   ]
  },
  {
   "cell_type": "markdown",
   "metadata": {},
   "source": [
    "Did this reduce the number of genes? How would we check?"
   ]
  },
  {
   "cell_type": "code",
   "execution_count": null,
   "metadata": {},
   "outputs": [],
   "source": [
    "final_frame.shape"
   ]
  },
  {
   "cell_type": "markdown",
   "metadata": {},
   "source": [
    "## Write your filtered data to a file"
   ]
  },
  {
   "cell_type": "code",
   "execution_count": null,
   "metadata": {
    "collapsed": true
   },
   "outputs": [],
   "source": [
    "strict_frame.to_csv('filtered_data.txt', sep='\\t')"
   ]
  },
  {
   "cell_type": "markdown",
   "metadata": {},
   "source": [
    "## For next time: We will be figuring out what to do with all of those duplicate values for gene symbols, and we will combine this current dataframe with perhaps a dictionary or other dataframe and plotting that data."
   ]
  }
 ],
 "metadata": {
  "anaconda-cloud": {},
  "kernelspec": {
   "display_name": "Python [seaborn_tut]",
   "language": "python",
   "name": "Python [seaborn_tut]"
  },
  "language_info": {
   "codemirror_mode": {
    "name": "ipython",
    "version": 3
   },
   "file_extension": ".py",
   "mimetype": "text/x-python",
   "name": "python",
   "nbconvert_exporter": "python",
   "pygments_lexer": "ipython3",
   "version": "3.5.3"
  }
 },
 "nbformat": 4,
 "nbformat_minor": 2
}
